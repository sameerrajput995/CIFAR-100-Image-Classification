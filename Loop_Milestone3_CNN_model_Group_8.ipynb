{
  "nbformat": 4,
  "nbformat_minor": 0,
  "metadata": {
    "colab": {
      "name": "Loop Milestone3 CNN model - Group 8.ipynb",
      "version": "0.3.2",
      "provenance": [],
      "collapsed_sections": [],
      "include_colab_link": true
    },
    "kernelspec": {
      "name": "python3",
      "display_name": "Python 3"
    },
    "accelerator": "GPU"
  },
  "cells": [
    {
      "cell_type": "markdown",
      "metadata": {
        "id": "view-in-github",
        "colab_type": "text"
      },
      "source": [
        "<a href=\"https://colab.research.google.com/github/Chaitanyaa/ML-CIFAR100/blob/master/Loop_Milestone3_CNN_model_Group_8.ipynb\" target=\"_parent\"><img src=\"https://colab.research.google.com/assets/colab-badge.svg\" alt=\"Open In Colab\"/></a>"
      ]
    },
    {
      "cell_type": "code",
      "metadata": {
        "id": "vmbOWVcmIGnr",
        "colab_type": "code",
        "outputId": "9fef0233-ba6f-4e37-94e0-fda8f9836d23",
        "colab": {
          "base_uri": "https://localhost:8080/",
          "height": 90
        }
      },
      "source": [
        "# Identifying superclasses indexes\n",
        "# Identifying superclasses indexes\n",
        "import pandas as pd\n",
        "#1 Code to read csv file into colaboratory:\n",
        "!pip install -U -q PyDrive\n",
        "from pydrive.auth import GoogleAuth\n",
        "from pydrive.drive import GoogleDrive\n",
        "from google.colab import auth\n",
        "from oauth2client.client import GoogleCredentials\n",
        "\n",
        "# 1. Authenticate and create the PyDrive client.\n",
        "auth.authenticate_user()\n",
        "gauth = GoogleAuth()\n",
        "gauth.credentials = GoogleCredentials.get_application_default()\n",
        "drive = GoogleDrive(gauth)\n",
        "\n",
        "downloaded1 = drive.CreateFile({'id':'1IfioWuWPLvvMvkdVCflMh5v6xVfKwBxW'}) # replace the id with id of file you want to access\n",
        "downloaded1.GetContentFile('meta')\n",
        "\n",
        "def unpickle(file):\n",
        "    import pickle\n",
        "    with open(file, 'rb') as fo:\n",
        "        dict = pickle.load(fo, encoding='bytes')\n",
        "    return dict\n",
        "  \n",
        "meta = unpickle('meta')\n",
        "k=0\n",
        "# Looping through the list to find the index of vehicle 1 and vehicle 2\n",
        "for i in meta[b'coarse_label_names']:\n",
        "  if i==b'vehicles_1':\n",
        "    a = k\n",
        "  if i==b'vehicles_2':\n",
        "    b = k\n",
        "  k=k+1  \n",
        "print('Vehicle 1 index:',a,'\\nVehicle 2 index:',b)\n",
        "coarse = pd.DataFrame(meta[b'coarse_label_names'])\n",
        "fine = pd.DataFrame(meta[b'fine_label_names'])"
      ],
      "execution_count": 0,
      "outputs": [
        {
          "output_type": "stream",
          "text": [
            "\u001b[?25l\r\u001b[K     |▎                               | 10kB 19.6MB/s eta 0:00:01\r\u001b[K     |▋                               | 20kB 26.1MB/s eta 0:00:01\r\u001b[K     |█                               | 30kB 30.0MB/s eta 0:00:01\r\u001b[K     |█▎                              | 40kB 33.7MB/s eta 0:00:01\r\u001b[K     |█▋                              | 51kB 37.4MB/s eta 0:00:01\r\u001b[K     |██                              | 61kB 39.7MB/s eta 0:00:01\r\u001b[K     |██▎                             | 71kB 40.0MB/s eta 0:00:01\r\u001b[K     |██▋                             | 81kB 39.9MB/s eta 0:00:01\r\u001b[K     |███                             | 92kB 41.4MB/s eta 0:00:01\r\u001b[K     |███▎                            | 102kB 43.3MB/s eta 0:00:01\r\u001b[K     |███▋                            | 112kB 43.3MB/s eta 0:00:01\r\u001b[K     |████                            | 122kB 43.3MB/s eta 0:00:01\r\u001b[K     |████▎                           | 133kB 43.3MB/s eta 0:00:01\r\u001b[K     |████▋                           | 143kB 43.3MB/s eta 0:00:01\r\u001b[K     |█████                           | 153kB 43.3MB/s eta 0:00:01\r\u001b[K     |█████▎                          | 163kB 43.3MB/s eta 0:00:01\r\u001b[K     |█████▋                          | 174kB 43.3MB/s eta 0:00:01\r\u001b[K     |██████                          | 184kB 43.3MB/s eta 0:00:01\r\u001b[K     |██████▎                         | 194kB 43.3MB/s eta 0:00:01\r\u001b[K     |██████▋                         | 204kB 43.3MB/s eta 0:00:01\r\u001b[K     |███████                         | 215kB 43.3MB/s eta 0:00:01\r\u001b[K     |███████▎                        | 225kB 43.3MB/s eta 0:00:01\r\u001b[K     |███████▋                        | 235kB 43.3MB/s eta 0:00:01\r\u001b[K     |████████                        | 245kB 43.3MB/s eta 0:00:01\r\u001b[K     |████████▎                       | 256kB 43.3MB/s eta 0:00:01\r\u001b[K     |████████▋                       | 266kB 43.3MB/s eta 0:00:01\r\u001b[K     |█████████                       | 276kB 43.3MB/s eta 0:00:01\r\u001b[K     |█████████▎                      | 286kB 43.3MB/s eta 0:00:01\r\u001b[K     |█████████▋                      | 296kB 43.3MB/s eta 0:00:01\r\u001b[K     |██████████                      | 307kB 43.3MB/s eta 0:00:01\r\u001b[K     |██████████▎                     | 317kB 43.3MB/s eta 0:00:01\r\u001b[K     |██████████▋                     | 327kB 43.3MB/s eta 0:00:01\r\u001b[K     |███████████                     | 337kB 43.3MB/s eta 0:00:01\r\u001b[K     |███████████▎                    | 348kB 43.3MB/s eta 0:00:01\r\u001b[K     |███████████▋                    | 358kB 43.3MB/s eta 0:00:01\r\u001b[K     |████████████                    | 368kB 43.3MB/s eta 0:00:01\r\u001b[K     |████████████▎                   | 378kB 43.3MB/s eta 0:00:01\r\u001b[K     |████████████▋                   | 389kB 43.3MB/s eta 0:00:01\r\u001b[K     |█████████████                   | 399kB 43.3MB/s eta 0:00:01\r\u001b[K     |█████████████▎                  | 409kB 43.3MB/s eta 0:00:01\r\u001b[K     |█████████████▋                  | 419kB 43.3MB/s eta 0:00:01\r\u001b[K     |██████████████                  | 430kB 43.3MB/s eta 0:00:01\r\u001b[K     |██████████████▎                 | 440kB 43.3MB/s eta 0:00:01\r\u001b[K     |██████████████▋                 | 450kB 43.3MB/s eta 0:00:01\r\u001b[K     |███████████████                 | 460kB 43.3MB/s eta 0:00:01\r\u001b[K     |███████████████▎                | 471kB 43.3MB/s eta 0:00:01\r\u001b[K     |███████████████▋                | 481kB 43.3MB/s eta 0:00:01\r\u001b[K     |████████████████                | 491kB 43.3MB/s eta 0:00:01\r\u001b[K     |████████████████▎               | 501kB 43.3MB/s eta 0:00:01\r\u001b[K     |████████████████▋               | 512kB 43.3MB/s eta 0:00:01\r\u001b[K     |█████████████████               | 522kB 43.3MB/s eta 0:00:01\r\u001b[K     |█████████████████▎              | 532kB 43.3MB/s eta 0:00:01\r\u001b[K     |█████████████████▋              | 542kB 43.3MB/s eta 0:00:01\r\u001b[K     |██████████████████              | 552kB 43.3MB/s eta 0:00:01\r\u001b[K     |██████████████████▎             | 563kB 43.3MB/s eta 0:00:01\r\u001b[K     |██████████████████▋             | 573kB 43.3MB/s eta 0:00:01\r\u001b[K     |███████████████████             | 583kB 43.3MB/s eta 0:00:01\r\u001b[K     |███████████████████▎            | 593kB 43.3MB/s eta 0:00:01\r\u001b[K     |███████████████████▋            | 604kB 43.3MB/s eta 0:00:01\r\u001b[K     |████████████████████            | 614kB 43.3MB/s eta 0:00:01\r\u001b[K     |████████████████████▎           | 624kB 43.3MB/s eta 0:00:01\r\u001b[K     |████████████████████▋           | 634kB 43.3MB/s eta 0:00:01\r\u001b[K     |█████████████████████           | 645kB 43.3MB/s eta 0:00:01\r\u001b[K     |█████████████████████▎          | 655kB 43.3MB/s eta 0:00:01\r\u001b[K     |█████████████████████▋          | 665kB 43.3MB/s eta 0:00:01\r\u001b[K     |██████████████████████          | 675kB 43.3MB/s eta 0:00:01\r\u001b[K     |██████████████████████▎         | 686kB 43.3MB/s eta 0:00:01\r\u001b[K     |██████████████████████▋         | 696kB 43.3MB/s eta 0:00:01\r\u001b[K     |███████████████████████         | 706kB 43.3MB/s eta 0:00:01\r\u001b[K     |███████████████████████▎        | 716kB 43.3MB/s eta 0:00:01\r\u001b[K     |███████████████████████▋        | 727kB 43.3MB/s eta 0:00:01\r\u001b[K     |████████████████████████        | 737kB 43.3MB/s eta 0:00:01\r\u001b[K     |████████████████████████▎       | 747kB 43.3MB/s eta 0:00:01\r\u001b[K     |████████████████████████▋       | 757kB 43.3MB/s eta 0:00:01\r\u001b[K     |████████████████████████▉       | 768kB 43.3MB/s eta 0:00:01\r\u001b[K     |█████████████████████████▏      | 778kB 43.3MB/s eta 0:00:01\r\u001b[K     |█████████████████████████▌      | 788kB 43.3MB/s eta 0:00:01\r\u001b[K     |█████████████████████████▉      | 798kB 43.3MB/s eta 0:00:01\r\u001b[K     |██████████████████████████▏     | 808kB 43.3MB/s eta 0:00:01\r\u001b[K     |██████████████████████████▌     | 819kB 43.3MB/s eta 0:00:01\r\u001b[K     |██████████████████████████▉     | 829kB 43.3MB/s eta 0:00:01\r\u001b[K     |███████████████████████████▏    | 839kB 43.3MB/s eta 0:00:01\r\u001b[K     |███████████████████████████▌    | 849kB 43.3MB/s eta 0:00:01\r\u001b[K     |███████████████████████████▉    | 860kB 43.3MB/s eta 0:00:01\r\u001b[K     |████████████████████████████▏   | 870kB 43.3MB/s eta 0:00:01\r\u001b[K     |████████████████████████████▌   | 880kB 43.3MB/s eta 0:00:01\r\u001b[K     |████████████████████████████▉   | 890kB 43.3MB/s eta 0:00:01\r\u001b[K     |█████████████████████████████▏  | 901kB 43.3MB/s eta 0:00:01\r\u001b[K     |█████████████████████████████▌  | 911kB 43.3MB/s eta 0:00:01\r\u001b[K     |█████████████████████████████▉  | 921kB 43.3MB/s eta 0:00:01\r\u001b[K     |██████████████████████████████▏ | 931kB 43.3MB/s eta 0:00:01\r\u001b[K     |██████████████████████████████▌ | 942kB 43.3MB/s eta 0:00:01\r\u001b[K     |██████████████████████████████▉ | 952kB 43.3MB/s eta 0:00:01\r\u001b[K     |███████████████████████████████▏| 962kB 43.3MB/s eta 0:00:01\r\u001b[K     |███████████████████████████████▌| 972kB 43.3MB/s eta 0:00:01\r\u001b[K     |███████████████████████████████▉| 983kB 43.3MB/s eta 0:00:01\r\u001b[K     |████████████████████████████████| 993kB 43.3MB/s \n",
            "\u001b[?25h  Building wheel for PyDrive (setup.py) ... \u001b[?25l\u001b[?25hdone\n",
            "Vehicle 1 index: 18 \n",
            "Vehicle 2 index: 19\n"
          ],
          "name": "stdout"
        }
      ]
    },
    {
      "cell_type": "markdown",
      "metadata": {
        "id": "93rZMf6_52cc",
        "colab_type": "text"
      },
      "source": [
        "## With Cifar-100 dataset in Keras"
      ]
    },
    {
      "cell_type": "code",
      "metadata": {
        "id": "8v9H5blS55E-",
        "colab_type": "code",
        "outputId": "a6c92942-71b9-4645-e1cf-847ab9033a5c",
        "colab": {
          "base_uri": "https://localhost:8080/",
          "height": 35
        }
      },
      "source": [
        "# install keras first\n",
        "!pip install dill\n",
        "!pip install -q keras"
      ],
      "execution_count": 0,
      "outputs": [
        {
          "output_type": "stream",
          "text": [
            "Requirement already satisfied: dill in /usr/local/lib/python3.6/dist-packages (0.2.9)\n"
          ],
          "name": "stdout"
        }
      ]
    },
    {
      "cell_type": "code",
      "metadata": {
        "id": "jrQ0o2Ac57Uy",
        "colab_type": "code",
        "colab": {}
      },
      "source": [
        "import os\n",
        "os.environ[\"THEANO_FLAGS\"] = \"mode=FAST_RUN,device=gpu,floatX=float32,TF_CPP_MIN_LOG_LEVEL=2\""
      ],
      "execution_count": 0,
      "outputs": []
    },
    {
      "cell_type": "code",
      "metadata": {
        "id": "O-g6hMo-590z",
        "colab_type": "code",
        "outputId": "2f5523da-c5f6-409f-8ba2-17376f3943f1",
        "colab": {
          "base_uri": "https://localhost:8080/",
          "height": 35
        }
      },
      "source": [
        "from keras import backend as K\n",
        "if K.backend()=='tensorflow':\n",
        "    K.set_image_dim_ordering(\"th\")"
      ],
      "execution_count": 0,
      "outputs": [
        {
          "output_type": "stream",
          "text": [
            "Using TensorFlow backend.\n"
          ],
          "name": "stderr"
        }
      ]
    },
    {
      "cell_type": "code",
      "metadata": {
        "id": "Oz1i5wfu5_w_",
        "colab_type": "code",
        "outputId": "fc7907cc-bb46-4455-c1f6-6c3c20efa8fd",
        "colab": {
          "base_uri": "https://localhost:8080/",
          "height": 35
        }
      },
      "source": [
        "#batch_size = 1000\n",
        "num_classes = 2\n",
        "'''\n",
        "epochs_longrun = 500\n",
        "save_dir = \"/work\"\n",
        "res_dir = \"/results\"\n",
        "model_name = 'convnet_cifar100'\n",
        "'''"
      ],
      "execution_count": 0,
      "outputs": [
        {
          "output_type": "execute_result",
          "data": {
            "text/plain": [
              "'\\nepochs_longrun = 500\\nsave_dir = \"/work\"\\nres_dir = \"/results\"\\nmodel_name = \\'convnet_cifar100\\'\\n'"
            ]
          },
          "metadata": {
            "tags": []
          },
          "execution_count": 6
        }
      ]
    },
    {
      "cell_type": "code",
      "metadata": {
        "id": "IzQEMJ-T6EB4",
        "colab_type": "code",
        "colab": {}
      },
      "source": [
        "from keras.datasets import cifar100"
      ],
      "execution_count": 0,
      "outputs": []
    },
    {
      "cell_type": "code",
      "metadata": {
        "id": "Gdu5AGPM6F9C",
        "colab_type": "code",
        "colab": {}
      },
      "source": [
        "from __future__ import print_function\n",
        "import tensorflow as tf\n",
        "import keras\n",
        "from keras.preprocessing.image import ImageDataGenerator\n",
        "from keras.models import Sequential\n",
        "from keras.layers.core import Dense, Dropout, Flatten, Activation\n",
        "from keras.layers.convolutional import Conv2D\n",
        "from keras.optimizers import Adam\n",
        "from keras.layers.pooling import MaxPooling2D\n",
        "from keras.callbacks import ModelCheckpoint,EarlyStopping\n",
        "from keras.utils import to_categorical\n",
        "from keras.models import load_model\n",
        "\n",
        "import os\n",
        "import numpy as np\n",
        "import pandas as pd\n",
        "import matplotlib.pyplot as plt\n",
        "from math import *\n",
        "from sklearn.model_selection import train_test_split\n",
        "from sklearn.preprocessing import StandardScaler\n",
        "import warnings\n",
        "warnings.filterwarnings('ignore')"
      ],
      "execution_count": 0,
      "outputs": []
    },
    {
      "cell_type": "code",
      "metadata": {
        "id": "qD8NyM4G6I8I",
        "colab_type": "code",
        "colab": {}
      },
      "source": [
        "def combinedf(x,y,z):\n",
        "  # Required subset of data in dataframe\n",
        "  x = x.reshape(x.shape[0],3*32*32)\n",
        "  images_df = pd.DataFrame(x, columns = list(range(0,3072)))\n",
        "  temp = pd.DataFrame(y, columns = ['Target'])\n",
        "  sub = pd.DataFrame(z, columns = ['Subtar'])\n",
        "  images_df = pd.concat([images_df,sub,temp],axis=1)\n",
        "  vehicle_images = images_df[(images_df['Target']==18) | (images_df['Target']==19) ]\n",
        "  vehicle_images['Subtar'] = fine[0][vehicle_images['Subtar']].values # Subtar holds the subclass values.\n",
        "  vehicle_images['Target'] = coarse[0][vehicle_images['Target']].values # Taget holds the superclass values\n",
        "  #vehicle_images.head()\n",
        "  return vehicle_images"
      ],
      "execution_count": 0,
      "outputs": []
    },
    {
      "cell_type": "code",
      "metadata": {
        "id": "fIo0oS4x6LCD",
        "colab_type": "code",
        "outputId": "682097a4-ed79-4c77-a7f9-bd04d6bcee08",
        "colab": {
          "base_uri": "https://localhost:8080/",
          "height": 108
        }
      },
      "source": [
        "import tensorflow as tf\n",
        "import numpy as np\n",
        "from keras.utils import to_categorical\n",
        "tf.reset_default_graph()\n",
        "tf.set_random_seed(343)\n",
        "np.random.seed(343)\n",
        "# The data, shuffled and split between train and test sets:\n",
        "(x_train, y_train), (x_test, y_test) = cifar100.load_data(label_mode='coarse')\n",
        "(a_train, b_train), (a_test, b_test) = cifar100.load_data(label_mode='fine')\n",
        "print('x_train shape:', x_train.shape)\n",
        "print(x_train.shape[0], 'train samples')\n",
        "print(x_test.shape[0], 'test samples')\n",
        "trainset = combinedf(x_train,y_train,b_train)\n",
        "testset  = combinedf(x_test,y_test,b_test)"
      ],
      "execution_count": 0,
      "outputs": [
        {
          "output_type": "stream",
          "text": [
            "Downloading data from https://www.cs.toronto.edu/~kriz/cifar-100-python.tar.gz\n",
            "169009152/169001437 [==============================] - 43s 0us/step\n",
            "x_train shape: (50000, 3, 32, 32)\n",
            "50000 train samples\n",
            "10000 test samples\n"
          ],
          "name": "stdout"
        }
      ]
    },
    {
      "cell_type": "code",
      "metadata": {
        "id": "kNp7BE-i6V_8",
        "colab_type": "code",
        "colab": {}
      },
      "source": [
        "data = pd.concat([trainset,testset],axis=0)"
      ],
      "execution_count": 0,
      "outputs": []
    },
    {
      "cell_type": "code",
      "metadata": {
        "id": "8IeC0ExV6YKK",
        "colab_type": "code",
        "outputId": "13da90a0-cb11-4210-9f7d-6820d12bb67a",
        "colab": {
          "base_uri": "https://localhost:8080/",
          "height": 54
        }
      },
      "source": [
        "vehicle1 = np.unique(data[(data['Target']==b'vehicles_1')]['Subtar'])\n",
        "vehicle1"
      ],
      "execution_count": 0,
      "outputs": [
        {
          "output_type": "execute_result",
          "data": {
            "text/plain": [
              "array([b'bicycle', b'bus', b'motorcycle', b'pickup_truck', b'train'],\n",
              "      dtype=object)"
            ]
          },
          "metadata": {
            "tags": []
          },
          "execution_count": 12
        }
      ]
    },
    {
      "cell_type": "code",
      "metadata": {
        "id": "_a8Brly3mcAB",
        "colab_type": "code",
        "outputId": "cec1d0aa-530f-4ec3-ad7e-4bad6b434c43",
        "colab": {
          "base_uri": "https://localhost:8080/",
          "height": 54
        }
      },
      "source": [
        "vehicle2 = np.unique(data[(data['Target']==b'vehicles_2')]['Subtar'])\n",
        "vehicle2"
      ],
      "execution_count": 0,
      "outputs": [
        {
          "output_type": "execute_result",
          "data": {
            "text/plain": [
              "array([b'lawn_mower', b'rocket', b'streetcar', b'tank', b'tractor'],\n",
              "      dtype=object)"
            ]
          },
          "metadata": {
            "tags": []
          },
          "execution_count": 13
        }
      ]
    },
    {
      "cell_type": "code",
      "metadata": {
        "id": "tcKhdYJc6bHF",
        "colab_type": "code",
        "colab": {}
      },
      "source": [
        "v1s1 = b'motorcycle'\n",
        "v2s2 = b'lawn_mower'\n",
        "v1s3 = b'pickup_truck'\n",
        "v2s4 = b'streetcar'"
      ],
      "execution_count": 0,
      "outputs": []
    },
    {
      "cell_type": "code",
      "metadata": {
        "id": "pMZxXifK7rRF",
        "colab_type": "code",
        "colab": {}
      },
      "source": [
        "trainset = data[( (data['Subtar']!=v1s1) & (data['Subtar']!=v2s2) & (data['Subtar']!=v1s3) & (data['Subtar']!=v2s4)) ]\n",
        "testset = data[( (data['Subtar']==v1s1) | (data['Subtar']==v2s2) ) | (data['Subtar']==v1s3) | (data['Subtar']==v2s4) ]"
      ],
      "execution_count": 0,
      "outputs": []
    },
    {
      "cell_type": "code",
      "metadata": {
        "id": "-Bi_eSnZpRJ3",
        "colab_type": "code",
        "outputId": "463a332e-e364-42fb-e6d3-5eea410aa255",
        "colab": {
          "base_uri": "https://localhost:8080/",
          "height": 35
        }
      },
      "source": [
        "data[( (data['Subtar']!=v1s1) & (data['Subtar']!=v2s2) & (data['Subtar']!=v1s3) & (data['Subtar']!=v2s4))].shape"
      ],
      "execution_count": 0,
      "outputs": [
        {
          "output_type": "execute_result",
          "data": {
            "text/plain": [
              "(3600, 3074)"
            ]
          },
          "metadata": {
            "tags": []
          },
          "execution_count": 16
        }
      ]
    },
    {
      "cell_type": "code",
      "metadata": {
        "id": "7X9OPPgepaOu",
        "colab_type": "code",
        "colab": {}
      },
      "source": [
        "X_train = trainset.drop(['Subtar','Target'],axis=1)\n",
        "y_train = trainset['Target']\n",
        "X_test = testset.drop(['Subtar','Target'],axis=1)\n",
        "y_test = testset['Target']"
      ],
      "execution_count": 0,
      "outputs": []
    },
    {
      "cell_type": "code",
      "metadata": {
        "id": "m3aNSMglpbtM",
        "colab_type": "code",
        "colab": {}
      },
      "source": [
        "#Normalize data\n",
        "X_train = X_train.astype('float32')\n",
        "X_test = X_test.astype('float32')\n",
        "X_train /= 255.0\n",
        "X_test /= 255.0"
      ],
      "execution_count": 0,
      "outputs": []
    },
    {
      "cell_type": "code",
      "metadata": {
        "id": "irnffBzjpqdy",
        "colab_type": "code",
        "colab": {}
      },
      "source": [
        "y_train = pd.get_dummies(y_train,drop_first=True)\n",
        "y_test = pd.get_dummies(y_test,drop_first=True)"
      ],
      "execution_count": 0,
      "outputs": []
    },
    {
      "cell_type": "code",
      "metadata": {
        "colab_type": "code",
        "id": "Ueist2DmKvrg",
        "colab": {}
      },
      "source": [
        "# def whiten(X):\n",
        "#   # Assume input data matrix X of size [N x D]\n",
        "#   X -= np.mean(X, axis = 0) # zero-center the data (important)\n",
        "#   cov = np.dot(X.T, X) / X.shape[0] # get the data covariance matrix\n",
        "#   U,S,V = np.linalg.svd(cov)\n",
        "#   Xrot = np.dot(X, U)\n",
        "#   Xrot_reduced = np.dot(X, U[:,:100]) # Xrot_reduced becomes [N x 100]\n",
        "#   # whiten the data:\n",
        "#   # divide by the eigenvalues (which are square roots of the singular values)\n",
        "#   Xwhite = Xrot / np.sqrt(S + 1e-5)\n",
        "#   return Xwhite\n",
        "# X_train = whiten(X_train)\n",
        "# X_test = whiten(X_test)"
      ],
      "execution_count": 0,
      "outputs": []
    },
    {
      "cell_type": "code",
      "metadata": {
        "id": "6hHs0TkN4z9x",
        "colab_type": "code",
        "outputId": "3ccf315d-d525-40c4-e15f-403bd47a56ca",
        "colab": {
          "base_uri": "https://localhost:8080/",
          "height": 35
        }
      },
      "source": [
        "X_train.shape"
      ],
      "execution_count": 0,
      "outputs": [
        {
          "output_type": "execute_result",
          "data": {
            "text/plain": [
              "(3600, 3072)"
            ]
          },
          "metadata": {
            "tags": []
          },
          "execution_count": 21
        }
      ]
    },
    {
      "cell_type": "markdown",
      "metadata": {
        "id": "Q4UZVi3DYqbr",
        "colab_type": "text"
      },
      "source": [
        "# CNN"
      ]
    },
    {
      "cell_type": "code",
      "metadata": {
        "id": "rTPRyIldueXc",
        "colab_type": "code",
        "colab": {}
      },
      "source": [
        "from keras.utils import np_utils\n",
        "# one hot encode outputs\n",
        "y_train = to_categorical(y_train,num_classes=2)\n",
        "y_test = to_categorical(y_test,num_classes=2)\n",
        "num_classes = y_test.shape[1]"
      ],
      "execution_count": 0,
      "outputs": []
    },
    {
      "cell_type": "code",
      "metadata": {
        "id": "qO3L117LungU",
        "colab_type": "code",
        "colab": {}
      },
      "source": [
        "  X_train = X_train.values\n",
        "  X_test = X_test.values"
      ],
      "execution_count": 0,
      "outputs": []
    },
    {
      "cell_type": "code",
      "metadata": {
        "id": "Io8jovFVurAy",
        "colab_type": "code",
        "colab": {}
      },
      "source": [
        "X_train = X_train.reshape(X_train.shape[0],3,32,32)\n",
        "X_test = X_test.reshape(X_test.shape[0],3,32,32)"
      ],
      "execution_count": 0,
      "outputs": []
    },
    {
      "cell_type": "code",
      "metadata": {
        "id": "IVvsQ2lvYtlp",
        "colab_type": "code",
        "colab": {}
      },
      "source": [
        "def build_model():\n",
        "  model3=Sequential()\n",
        "\n",
        "  model3.add(Conv2D(128, (3, 3), padding='same',input_shape=(3, 32, 32)))\n",
        "  model3.add(Activation('relu'))\n",
        "  model3.add(Conv2D(128, (3, 3)))\n",
        "  model3.add(Activation('relu'))\n",
        "  model3.add(MaxPooling2D(pool_size=(2, 2)))\n",
        "  model3.add(Dropout(0.20))\n",
        "\n",
        "  model3.add(Conv2D(256, (3, 3), padding='same'))\n",
        "  model3.add(Activation('relu'))\n",
        "  model3.add(Conv2D(256, (3, 3)))\n",
        "  model3.add(Activation('relu'))\n",
        "  model3.add(MaxPooling2D(pool_size=(2, 2)))\n",
        "  model3.add(Dropout(0.25))\n",
        "\n",
        "  model3.add(Conv2D(512, (3, 3), padding='same'))\n",
        "  model3.add(Activation('relu'))\n",
        "  model3.add(Conv2D(512, (3, 3)))\n",
        "  model3.add(Activation('relu'))\n",
        "  model3.add(MaxPooling2D(pool_size=(2, 2)))\n",
        "  model3.add(Dropout(0.5))\n",
        "\n",
        "  model3.add(Flatten())\n",
        "  model3.add(Dense(1024))\n",
        "  model3.add(Activation('relu'))\n",
        "  model3.add(Dropout(0.5))\n",
        "  model3.add(Dense(2))\n",
        "  model3.add(Activation('softmax'))\n",
        "\n",
        "  opt = Adam(lr=0.00005, decay=1e-6)\n",
        "  model3.compile(loss='binary_crossentropy',\n",
        "              optimizer=opt,\n",
        "              metrics=['accuracy'])\n",
        "\n",
        "  opt = Adam(lr=0.00005, decay=1e-6)\n",
        "\n",
        "  model3.compile(loss='binary_crossentropy',\n",
        "                optimizer=opt,\n",
        "                metrics=['accuracy'])\n",
        "\n",
        "  #print('Using real-time data augmentation.')\n",
        "\n",
        "  datagen = ImageDataGenerator(\n",
        "    featurewise_center=False, \n",
        "    samplewise_center=False,  \n",
        "    featurewise_std_normalization=False,\n",
        "    samplewise_std_normalization=False, \n",
        "    zca_whitening=False, \n",
        "    rotation_range=0, \n",
        "    width_shift_range=0.1, \n",
        "    height_shift_range=0.1,\n",
        "    horizontal_flip=True, \n",
        "    vertical_flip=False) \n",
        "\n",
        "  datagen.fit(X_train)\n",
        "  #model3.summary()\n",
        "  return model3,datagen\n"
      ],
      "execution_count": 0,
      "outputs": []
    },
    {
      "cell_type": "markdown",
      "metadata": {
        "id": "nPPsmB_8zVQf",
        "colab_type": "text"
      },
      "source": [
        "# Looping"
      ]
    },
    {
      "cell_type": "code",
      "metadata": {
        "id": "BiachHu4zULj",
        "colab_type": "code",
        "colab": {}
      },
      "source": [
        " # Function for preparing the dataset\n",
        "  def dataprep(v1s1,v1s2,v2s1,v2s2):\n",
        "    trainset = data[( (data['Subtar']!=v1s1) & (data['Subtar']!=v1s2) & (data['Subtar']!=v2s1) & (data['Subtar']!=v2s2)) ]\n",
        "    testset = data[( (data['Subtar']==v1s1) | (data['Subtar']==v1s2) | (data['Subtar']==v2s1)|(data['Subtar']==v2s2))]\n",
        "    X_train = trainset.drop(['Subtar','Target'],axis=1)\n",
        "    y_train = trainset['Target']\n",
        "    X_test = testset.drop(['Subtar','Target'],axis=1)\n",
        "    y_test = testset['Target']\n",
        "    #Normalize data\n",
        "    X_train = X_train.astype('float32')\n",
        "    X_test = X_test.astype('float32')\n",
        "    X_train /= 255.0\n",
        "    X_test /= 255.0\n",
        "    y_train = pd.get_dummies(y_train,drop_first=True)\n",
        "    y_test = pd.get_dummies(y_test,drop_first=True)\n",
        "    return X_train,X_test,y_train,y_test"
      ],
      "execution_count": 0,
      "outputs": []
    },
    {
      "cell_type": "code",
      "metadata": {
        "id": "1ii9e3W10L7t",
        "colab_type": "code",
        "colab": {}
      },
      "source": [
        "# Function for fitting the CNN model and saving the best epoch accuracy.\n",
        "def cnn(H,X_train,X_test,y_train,y_test,datagen,model3):\n",
        "  Best = str(H).replace(\"'\",\"\")\n",
        "  save_dir = os.path.join(os.getcwd(), 'saved_models')\n",
        "  model_name = 'c_%s_m.{epoch:03d}.h5' % Best\n",
        "  if not os.path.isdir(save_dir):\n",
        "      os.makedirs(save_dir)\n",
        "  filepath = os.path.join(save_dir, model_name)\n",
        "  # Prepare callbacks for model saving and for learning rate adjustment.\n",
        "  checkpoint = ModelCheckpoint(filepath=filepath,\n",
        "                               monitor='val_acc',\n",
        "                               verbose=0,\n",
        "                               save_best_only=True)\n",
        "  callbacks = [checkpoint]\n",
        "  \n",
        "  \n",
        "  #Let's train the model\n",
        "  epochs = 30\n",
        "  #batch_size=128\n",
        "  Best = H\n",
        "  hist = model3.fit_generator(datagen.flow(X_train, y_train,\n",
        "      batch_size=128),shuffle= True,\n",
        "      steps_per_epoch=X_train.shape[0] // 256,\n",
        "      epochs=epochs,verbose=0,\n",
        "      validation_data=(X_test, y_test),\n",
        "      workers=4,callbacks=callbacks)\n",
        "  \n",
        "  # To load the most recent saved file for a particular combination => Highest accuracy epoch.\n",
        "  var = !(ls saved_models -tr|tail -1)\n",
        "  filenamestr = \"/content/saved_models/\"+var[0]\n",
        "  model = load_model(filenamestr)\n",
        "  scores = model.evaluate(X_test, y_test, verbose=0)\n",
        "  print(H,\"Accuracy: %.2f%%\" % (scores[1]*100))"
      ],
      "execution_count": 0,
      "outputs": []
    },
    {
      "cell_type": "code",
      "metadata": {
        "id": "2G88SQ4DIhfp",
        "colab_type": "code",
        "colab": {}
      },
      "source": [
        "# To avoid warnings in the output.\n",
        "import os\n",
        "os.environ['TF_CPP_MIN_LOG_LEVEL'] = '3'\n",
        "tf.logging.set_verbosity(tf.logging.ERROR)"
      ],
      "execution_count": 0,
      "outputs": []
    },
    {
      "cell_type": "code",
      "metadata": {
        "id": "eJuSQLOBLxEm",
        "colab_type": "code",
        "colab": {}
      },
      "source": [
        "# To avoid warnings in the output.\n",
        "def warn(*args, **kwargs):\n",
        "  pass\n",
        "import warnings\n",
        "warnings.warn = warn"
      ],
      "execution_count": 0,
      "outputs": []
    },
    {
      "cell_type": "code",
      "metadata": {
        "id": "kHzOEEB0zAGc",
        "colab_type": "code",
        "outputId": "69df8898-9be8-48a0-97ea-2831a0c27b65",
        "colab": {
          "base_uri": "https://localhost:8080/",
          "height": 3892
        }
      },
      "source": [
        "# Generating all 100 combinations and looping through each combination and calling below functions each time :\n",
        "  # dataprep() -- // Seprates the data into train and test sets.\n",
        "  # buildmodel() -- // Builds the CNN architecture\n",
        "  # cnn() -- // Fits the model with train data\n",
        "  # Takes around two and half hours to execute all combinations, save the best.\n",
        "  # Prints the highest accuracy in each of 30 epochs for all combinations \n",
        "  \n",
        "a = []\n",
        "b = []\n",
        "c = []\n",
        "save_dir = os.path.join(os.getcwd(), 'saved_models')\n",
        "from itertools import permutations \n",
        "perm1 = permutations(vehicle1, 2) \n",
        "perm2 = permutations(vehicle2, 2)\n",
        "for i in list(perm1): \n",
        "    a+=[i]\n",
        "for i in list(perm2): \n",
        "    b+=[i]    \n",
        "    \n",
        "skip=[]\n",
        "for i in list(range(1,5)):\n",
        "    m = 4*i\n",
        "    for j in list(range(0,i)):\n",
        "      skip += [m]\n",
        "      m = m+1    \n",
        "\n",
        "for i in sorted(skip, reverse=True): \n",
        "    del b[i]\n",
        "    del a[i]\n",
        "    \n",
        "H=[]\n",
        "for k in a:\n",
        "    for l in b:\n",
        "      v1s1 = k[0]\n",
        "      v1s2 = k[1]\n",
        "      v2s1 = l[0]\n",
        "      v2s2 = l[1]\n",
        "      os.environ[\"TF_CPP_MIN_LOG_LEVEL\"]=\"3\"\n",
        "      tf.logging.set_verbosity(tf.logging.ERROR)\n",
        "      X_train,X_test,y_train,y_test = dataprep(v1s1,v1s2,v2s1,v2s2)\n",
        "      X_train = X_train.values\n",
        "      X_test = X_test.values\n",
        "      X_train = X_train.reshape(X_train.shape[0],3,32,32)\n",
        "      X_test = X_test.reshape(X_test.shape[0],3,32,32)\n",
        "      from keras.utils import np_utils\n",
        "      # one hot encode outputs\n",
        "      y_train = to_categorical(y_train,num_classes=2)\n",
        "      y_test = to_categorical(y_test,num_classes=2)\n",
        "      num_classes = y_test.shape[1]\n",
        "      H+= [[[v1s1,v1s2],[v2s1,v2s2]]]\n",
        "      #print(v1s1,v2s1,v1s2,v2s2)\n",
        "      #print(y_train.shape)\n",
        "      graph = tf.Graph()                  #Important piece of code to handle session reseting issue within the loop.\n",
        "      with tf.Session(graph=graph):        \n",
        "        model3,datagen = build_model()\n",
        "        cnn([[[v1s1,v1s2],[v2s1,v2s2]]],X_train,X_test,y_train,y_test,datagen,model3)    "
      ],
      "execution_count": 0,
      "outputs": [
        {
          "output_type": "stream",
          "text": [
            "[[[b'bicycle', b'bus'], [b'lawn_mower', b'rocket']]] Accuracy: 55.42%\n"
          ],
          "name": "stdout"
        },
        {
          "output_type": "stream",
          "text": [
            "Exception ignored in: <bound method BaseSession._Callable.__del__ of <tensorflow.python.client.session.BaseSession._Callable object at 0x7f3e8e424cf8>>\n",
            "Traceback (most recent call last):\n",
            "  File \"/usr/local/lib/python3.6/dist-packages/tensorflow/python/client/session.py\", line 1455, in __del__\n",
            "    self._session._session, self._handle, status)\n",
            "  File \"/usr/local/lib/python3.6/dist-packages/tensorflow/python/framework/errors_impl.py\", line 528, in __exit__\n",
            "    c_api.TF_GetCode(self.status.status))\n",
            "tensorflow.python.framework.errors_impl.CancelledError: Session has been closed.\n",
            "Exception ignored in: <bound method BaseSession._Callable.__del__ of <tensorflow.python.client.session.BaseSession._Callable object at 0x7f3e8e716278>>\n",
            "Traceback (most recent call last):\n",
            "  File \"/usr/local/lib/python3.6/dist-packages/tensorflow/python/client/session.py\", line 1455, in __del__\n",
            "    self._session._session, self._handle, status)\n",
            "  File \"/usr/local/lib/python3.6/dist-packages/tensorflow/python/framework/errors_impl.py\", line 528, in __exit__\n",
            "    c_api.TF_GetCode(self.status.status))\n",
            "tensorflow.python.framework.errors_impl.CancelledError: Session has been closed.\n",
            "Exception ignored in: <bound method BaseSession._Callable.__del__ of <tensorflow.python.client.session.BaseSession._Callable object at 0x7f3e8e716cf8>>\n",
            "Traceback (most recent call last):\n",
            "  File \"/usr/local/lib/python3.6/dist-packages/tensorflow/python/client/session.py\", line 1455, in __del__\n",
            "    self._session._session, self._handle, status)\n",
            "  File \"/usr/local/lib/python3.6/dist-packages/tensorflow/python/framework/errors_impl.py\", line 528, in __exit__\n",
            "    c_api.TF_GetCode(self.status.status))\n",
            "tensorflow.python.framework.errors_impl.CancelledError: Session has been closed.\n"
          ],
          "name": "stderr"
        },
        {
          "output_type": "stream",
          "text": [
            "[[[b'bicycle', b'bus'], [b'lawn_mower', b'streetcar']]] Accuracy: 54.46%\n"
          ],
          "name": "stdout"
        },
        {
          "output_type": "stream",
          "text": [
            "Exception ignored in: <bound method BaseSession._Callable.__del__ of <tensorflow.python.client.session.BaseSession._Callable object at 0x7f3e7be0ab38>>\n",
            "Traceback (most recent call last):\n",
            "  File \"/usr/local/lib/python3.6/dist-packages/tensorflow/python/client/session.py\", line 1455, in __del__\n",
            "    self._session._session, self._handle, status)\n",
            "  File \"/usr/local/lib/python3.6/dist-packages/tensorflow/python/framework/errors_impl.py\", line 528, in __exit__\n",
            "    c_api.TF_GetCode(self.status.status))\n",
            "tensorflow.python.framework.errors_impl.CancelledError: Session has been closed.\n",
            "Exception ignored in: <bound method BaseSession._Callable.__del__ of <tensorflow.python.client.session.BaseSession._Callable object at 0x7f3e7def5be0>>\n",
            "Traceback (most recent call last):\n",
            "  File \"/usr/local/lib/python3.6/dist-packages/tensorflow/python/client/session.py\", line 1455, in __del__\n",
            "    self._session._session, self._handle, status)\n",
            "  File \"/usr/local/lib/python3.6/dist-packages/tensorflow/python/framework/errors_impl.py\", line 528, in __exit__\n",
            "    c_api.TF_GetCode(self.status.status))\n",
            "tensorflow.python.framework.errors_impl.CancelledError: Session has been closed.\n",
            "Exception ignored in: <bound method BaseSession._Callable.__del__ of <tensorflow.python.client.session.BaseSession._Callable object at 0x7f3e7be94320>>\n",
            "Traceback (most recent call last):\n",
            "  File \"/usr/local/lib/python3.6/dist-packages/tensorflow/python/client/session.py\", line 1455, in __del__\n",
            "    self._session._session, self._handle, status)\n",
            "  File \"/usr/local/lib/python3.6/dist-packages/tensorflow/python/framework/errors_impl.py\", line 528, in __exit__\n",
            "    c_api.TF_GetCode(self.status.status))\n",
            "tensorflow.python.framework.errors_impl.CancelledError: Session has been closed.\n"
          ],
          "name": "stderr"
        },
        {
          "output_type": "stream",
          "text": [
            "[[[b'bicycle', b'bus'], [b'lawn_mower', b'tank']]] Accuracy: 52.46%\n",
            "[[[b'bicycle', b'bus'], [b'lawn_mower', b'tractor']]] Accuracy: 56.92%\n",
            "[[[b'bicycle', b'bus'], [b'rocket', b'streetcar']]] Accuracy: 53.83%\n",
            "[[[b'bicycle', b'bus'], [b'rocket', b'tank']]] Accuracy: 59.38%\n",
            "[[[b'bicycle', b'bus'], [b'rocket', b'tractor']]] Accuracy: 56.12%\n"
          ],
          "name": "stdout"
        },
        {
          "output_type": "stream",
          "text": [
            "Exception ignored in: <bound method BaseSession._Callable.__del__ of <tensorflow.python.client.session.BaseSession._Callable object at 0x7f3d6ec65ba8>>\n",
            "Traceback (most recent call last):\n",
            "  File \"/usr/local/lib/python3.6/dist-packages/tensorflow/python/client/session.py\", line 1455, in __del__\n",
            "    self._session._session, self._handle, status)\n",
            "  File \"/usr/local/lib/python3.6/dist-packages/tensorflow/python/framework/errors_impl.py\", line 528, in __exit__\n",
            "    c_api.TF_GetCode(self.status.status))\n",
            "tensorflow.python.framework.errors_impl.CancelledError: Session has been closed.\n"
          ],
          "name": "stderr"
        },
        {
          "output_type": "stream",
          "text": [
            "[[[b'bicycle', b'bus'], [b'streetcar', b'tank']]] Accuracy: 50.00%\n"
          ],
          "name": "stdout"
        },
        {
          "output_type": "stream",
          "text": [
            "Exception ignored in: <bound method BaseSession._Callable.__del__ of <tensorflow.python.client.session.BaseSession._Callable object at 0x7f3d6fe81d30>>\n",
            "Traceback (most recent call last):\n",
            "  File \"/usr/local/lib/python3.6/dist-packages/tensorflow/python/client/session.py\", line 1455, in __del__\n",
            "    self._session._session, self._handle, status)\n",
            "  File \"/usr/local/lib/python3.6/dist-packages/tensorflow/python/framework/errors_impl.py\", line 528, in __exit__\n",
            "    c_api.TF_GetCode(self.status.status))\n",
            "tensorflow.python.framework.errors_impl.CancelledError: Session has been closed.\n",
            "Exception ignored in: <bound method BaseSession._Callable.__del__ of <tensorflow.python.client.session.BaseSession._Callable object at 0x7f3d6fe81dd8>>\n",
            "Traceback (most recent call last):\n",
            "  File \"/usr/local/lib/python3.6/dist-packages/tensorflow/python/client/session.py\", line 1455, in __del__\n",
            "    self._session._session, self._handle, status)\n",
            "  File \"/usr/local/lib/python3.6/dist-packages/tensorflow/python/framework/errors_impl.py\", line 528, in __exit__\n",
            "    c_api.TF_GetCode(self.status.status))\n",
            "tensorflow.python.framework.errors_impl.CancelledError: Session has been closed.\n"
          ],
          "name": "stderr"
        },
        {
          "output_type": "stream",
          "text": [
            "[[[b'bicycle', b'bus'], [b'streetcar', b'tractor']]] Accuracy: 52.04%\n",
            "[[[b'bicycle', b'bus'], [b'tank', b'tractor']]] Accuracy: 52.42%\n",
            "[[[b'bicycle', b'motorcycle'], [b'lawn_mower', b'rocket']]] Accuracy: 57.12%\n",
            "[[[b'bicycle', b'motorcycle'], [b'lawn_mower', b'streetcar']]] Accuracy: 55.62%\n",
            "[[[b'bicycle', b'motorcycle'], [b'lawn_mower', b'tank']]] Accuracy: 55.12%\n",
            "[[[b'bicycle', b'motorcycle'], [b'lawn_mower', b'tractor']]] Accuracy: 57.50%\n",
            "[[[b'bicycle', b'motorcycle'], [b'rocket', b'streetcar']]] Accuracy: 51.00%\n",
            "[[[b'bicycle', b'motorcycle'], [b'rocket', b'tank']]] Accuracy: 56.88%\n",
            "[[[b'bicycle', b'motorcycle'], [b'rocket', b'tractor']]] Accuracy: 53.29%\n",
            "[[[b'bicycle', b'motorcycle'], [b'streetcar', b'tank']]] Accuracy: 50.00%\n",
            "[[[b'bicycle', b'motorcycle'], [b'streetcar', b'tractor']]] Accuracy: 50.00%\n",
            "[[[b'bicycle', b'motorcycle'], [b'tank', b'tractor']]] Accuracy: 50.00%\n",
            "[[[b'bicycle', b'pickup_truck'], [b'lawn_mower', b'rocket']]] Accuracy: 60.96%\n",
            "[[[b'bicycle', b'pickup_truck'], [b'lawn_mower', b'streetcar']]] Accuracy: 56.17%\n"
          ],
          "name": "stdout"
        },
        {
          "output_type": "stream",
          "text": [
            "Exception ignored in: <bound method BaseSession._Callable.__del__ of <tensorflow.python.client.session.BaseSession._Callable object at 0x7f3d513e9a58>>\n",
            "Traceback (most recent call last):\n",
            "  File \"/usr/local/lib/python3.6/dist-packages/tensorflow/python/client/session.py\", line 1455, in __del__\n",
            "    self._session._session, self._handle, status)\n",
            "  File \"/usr/local/lib/python3.6/dist-packages/tensorflow/python/framework/errors_impl.py\", line 528, in __exit__\n",
            "    c_api.TF_GetCode(self.status.status))\n",
            "tensorflow.python.framework.errors_impl.CancelledError: Session has been closed.\n"
          ],
          "name": "stderr"
        },
        {
          "output_type": "stream",
          "text": [
            "[[[b'bicycle', b'pickup_truck'], [b'lawn_mower', b'tank']]] Accuracy: 59.88%\n",
            "[[[b'bicycle', b'pickup_truck'], [b'lawn_mower', b'tractor']]] Accuracy: 63.21%\n",
            "[[[b'bicycle', b'pickup_truck'], [b'rocket', b'streetcar']]] Accuracy: 55.04%\n",
            "[[[b'bicycle', b'pickup_truck'], [b'rocket', b'tank']]] Accuracy: 58.96%\n"
          ],
          "name": "stdout"
        },
        {
          "output_type": "stream",
          "text": [
            "Exception ignored in: <bound method BaseSession._Callable.__del__ of <tensorflow.python.client.session.BaseSession._Callable object at 0x7f3d520539b0>>\n",
            "Traceback (most recent call last):\n",
            "  File \"/usr/local/lib/python3.6/dist-packages/tensorflow/python/client/session.py\", line 1455, in __del__\n",
            "    self._session._session, self._handle, status)\n",
            "  File \"/usr/local/lib/python3.6/dist-packages/tensorflow/python/framework/errors_impl.py\", line 528, in __exit__\n",
            "    c_api.TF_GetCode(self.status.status))\n",
            "tensorflow.python.framework.errors_impl.CancelledError: Session has been closed.\n",
            "Exception ignored in: <bound method BaseSession._Callable.__del__ of <tensorflow.python.client.session.BaseSession._Callable object at 0x7f3d52053438>>\n",
            "Traceback (most recent call last):\n",
            "  File \"/usr/local/lib/python3.6/dist-packages/tensorflow/python/client/session.py\", line 1455, in __del__\n",
            "    self._session._session, self._handle, status)\n",
            "  File \"/usr/local/lib/python3.6/dist-packages/tensorflow/python/framework/errors_impl.py\", line 528, in __exit__\n",
            "    c_api.TF_GetCode(self.status.status))\n",
            "tensorflow.python.framework.errors_impl.CancelledError: Session has been closed.\n"
          ],
          "name": "stderr"
        },
        {
          "output_type": "stream",
          "text": [
            "[[[b'bicycle', b'pickup_truck'], [b'rocket', b'tractor']]] Accuracy: 57.50%\n",
            "[[[b'bicycle', b'pickup_truck'], [b'streetcar', b'tank']]] Accuracy: 49.96%\n",
            "[[[b'bicycle', b'pickup_truck'], [b'streetcar', b'tractor']]] Accuracy: 50.00%\n",
            "[[[b'bicycle', b'pickup_truck'], [b'tank', b'tractor']]] Accuracy: 50.29%\n",
            "[[[b'bicycle', b'train'], [b'lawn_mower', b'rocket']]] Accuracy: 49.54%\n",
            "[[[b'bicycle', b'train'], [b'lawn_mower', b'streetcar']]] Accuracy: 52.04%\n",
            "[[[b'bicycle', b'train'], [b'lawn_mower', b'tank']]] Accuracy: 52.62%\n",
            "[[[b'bicycle', b'train'], [b'lawn_mower', b'tractor']]] Accuracy: 54.83%\n",
            "[[[b'bicycle', b'train'], [b'rocket', b'streetcar']]] Accuracy: 50.00%\n",
            "[[[b'bicycle', b'train'], [b'rocket', b'tank']]] Accuracy: 55.08%\n",
            "[[[b'bicycle', b'train'], [b'rocket', b'tractor']]] Accuracy: 56.54%\n",
            "[[[b'bicycle', b'train'], [b'streetcar', b'tank']]] Accuracy: 50.04%\n",
            "[[[b'bicycle', b'train'], [b'streetcar', b'tractor']]] Accuracy: 50.00%\n",
            "[[[b'bicycle', b'train'], [b'tank', b'tractor']]] Accuracy: 53.17%\n",
            "[[[b'bus', b'motorcycle'], [b'lawn_mower', b'rocket']]] Accuracy: 54.92%\n",
            "[[[b'bus', b'motorcycle'], [b'lawn_mower', b'streetcar']]] Accuracy: 65.17%\n",
            "[[[b'bus', b'motorcycle'], [b'lawn_mower', b'tank']]] Accuracy: 63.29%\n",
            "[[[b'bus', b'motorcycle'], [b'lawn_mower', b'tractor']]] Accuracy: 66.58%\n",
            "[[[b'bus', b'motorcycle'], [b'rocket', b'streetcar']]] Accuracy: 54.33%\n"
          ],
          "name": "stdout"
        },
        {
          "output_type": "stream",
          "text": [
            "Exception ignored in: <bound method BaseSession._Callable.__del__ of <tensorflow.python.client.session.BaseSession._Callable object at 0x7f3d2343e9e8>>\n",
            "Traceback (most recent call last):\n",
            "  File \"/usr/local/lib/python3.6/dist-packages/tensorflow/python/client/session.py\", line 1455, in __del__\n",
            "    self._session._session, self._handle, status)\n",
            "  File \"/usr/local/lib/python3.6/dist-packages/tensorflow/python/framework/errors_impl.py\", line 528, in __exit__\n",
            "    c_api.TF_GetCode(self.status.status))\n",
            "tensorflow.python.framework.errors_impl.CancelledError: Session has been closed.\n"
          ],
          "name": "stderr"
        },
        {
          "output_type": "stream",
          "text": [
            "[[[b'bus', b'motorcycle'], [b'rocket', b'tank']]] Accuracy: 56.12%\n",
            "[[[b'bus', b'motorcycle'], [b'rocket', b'tractor']]] Accuracy: 58.54%\n",
            "[[[b'bus', b'motorcycle'], [b'streetcar', b'tank']]] Accuracy: 53.79%\n",
            "[[[b'bus', b'motorcycle'], [b'streetcar', b'tractor']]] Accuracy: 55.50%\n",
            "[[[b'bus', b'motorcycle'], [b'tank', b'tractor']]] Accuracy: 55.04%\n",
            "[[[b'bus', b'pickup_truck'], [b'lawn_mower', b'rocket']]] Accuracy: 49.92%\n",
            "[[[b'bus', b'pickup_truck'], [b'lawn_mower', b'streetcar']]] Accuracy: 59.46%\n",
            "[[[b'bus', b'pickup_truck'], [b'lawn_mower', b'tank']]] Accuracy: 56.38%\n"
          ],
          "name": "stdout"
        },
        {
          "output_type": "stream",
          "text": [
            "Exception ignored in: <bound method BaseSession._Callable.__del__ of <tensorflow.python.client.session.BaseSession._Callable object at 0x7f3d2412a240>>\n",
            "Traceback (most recent call last):\n",
            "  File \"/usr/local/lib/python3.6/dist-packages/tensorflow/python/client/session.py\", line 1455, in __del__\n",
            "    self._session._session, self._handle, status)\n",
            "  File \"/usr/local/lib/python3.6/dist-packages/tensorflow/python/framework/errors_impl.py\", line 528, in __exit__\n",
            "    c_api.TF_GetCode(self.status.status))\n",
            "tensorflow.python.framework.errors_impl.CancelledError: Session has been closed.\n",
            "Exception ignored in: <bound method BaseSession._Callable.__del__ of <tensorflow.python.client.session.BaseSession._Callable object at 0x7f3d2412a358>>\n",
            "Traceback (most recent call last):\n",
            "  File \"/usr/local/lib/python3.6/dist-packages/tensorflow/python/client/session.py\", line 1455, in __del__\n",
            "    self._session._session, self._handle, status)\n",
            "  File \"/usr/local/lib/python3.6/dist-packages/tensorflow/python/framework/errors_impl.py\", line 528, in __exit__\n",
            "    c_api.TF_GetCode(self.status.status))\n",
            "tensorflow.python.framework.errors_impl.CancelledError: Session has been closed.\n"
          ],
          "name": "stderr"
        },
        {
          "output_type": "stream",
          "text": [
            "[[[b'bus', b'pickup_truck'], [b'lawn_mower', b'tractor']]] Accuracy: 53.83%\n",
            "[[[b'bus', b'pickup_truck'], [b'rocket', b'streetcar']]] Accuracy: 52.12%\n",
            "[[[b'bus', b'pickup_truck'], [b'rocket', b'tank']]] Accuracy: 50.88%\n",
            "[[[b'bus', b'pickup_truck'], [b'rocket', b'tractor']]] Accuracy: 50.42%\n",
            "[[[b'bus', b'pickup_truck'], [b'streetcar', b'tank']]] Accuracy: 51.29%\n",
            "[[[b'bus', b'pickup_truck'], [b'streetcar', b'tractor']]] Accuracy: 51.62%\n",
            "[[[b'bus', b'pickup_truck'], [b'tank', b'tractor']]] Accuracy: 50.00%\n",
            "[[[b'bus', b'train'], [b'lawn_mower', b'rocket']]] Accuracy: 49.88%\n",
            "[[[b'bus', b'train'], [b'lawn_mower', b'streetcar']]] Accuracy: 52.88%\n",
            "[[[b'bus', b'train'], [b'lawn_mower', b'tank']]] Accuracy: 53.87%\n",
            "[[[b'bus', b'train'], [b'lawn_mower', b'tractor']]] Accuracy: 56.96%\n",
            "[[[b'bus', b'train'], [b'rocket', b'streetcar']]] Accuracy: 49.29%\n",
            "[[[b'bus', b'train'], [b'rocket', b'tank']]] Accuracy: 52.88%\n",
            "[[[b'bus', b'train'], [b'rocket', b'tractor']]] Accuracy: 53.87%\n",
            "[[[b'bus', b'train'], [b'streetcar', b'tank']]] Accuracy: 51.83%\n",
            "[[[b'bus', b'train'], [b'streetcar', b'tractor']]] Accuracy: 50.25%\n",
            "[[[b'bus', b'train'], [b'tank', b'tractor']]] Accuracy: 55.54%\n",
            "[[[b'motorcycle', b'pickup_truck'], [b'lawn_mower', b'rocket']]] Accuracy: 57.96%\n",
            "[[[b'motorcycle', b'pickup_truck'], [b'lawn_mower', b'streetcar']]] Accuracy: 66.50%\n",
            "[[[b'motorcycle', b'pickup_truck'], [b'lawn_mower', b'tank']]] Accuracy: 65.25%\n",
            "[[[b'motorcycle', b'pickup_truck'], [b'lawn_mower', b'tractor']]] Accuracy: 66.67%\n",
            "[[[b'motorcycle', b'pickup_truck'], [b'rocket', b'streetcar']]] Accuracy: 53.04%\n",
            "[[[b'motorcycle', b'pickup_truck'], [b'rocket', b'tank']]] Accuracy: 50.38%\n",
            "[[[b'motorcycle', b'pickup_truck'], [b'rocket', b'tractor']]] Accuracy: 52.62%\n",
            "[[[b'motorcycle', b'pickup_truck'], [b'streetcar', b'tank']]] Accuracy: 53.96%\n",
            "[[[b'motorcycle', b'pickup_truck'], [b'streetcar', b'tractor']]] Accuracy: 52.75%\n",
            "[[[b'motorcycle', b'pickup_truck'], [b'tank', b'tractor']]] Accuracy: 51.79%\n",
            "[[[b'motorcycle', b'train'], [b'lawn_mower', b'rocket']]] Accuracy: 51.12%\n",
            "[[[b'motorcycle', b'train'], [b'lawn_mower', b'streetcar']]] Accuracy: 59.17%\n",
            "[[[b'motorcycle', b'train'], [b'lawn_mower', b'tank']]] Accuracy: 63.17%\n",
            "[[[b'motorcycle', b'train'], [b'lawn_mower', b'tractor']]] Accuracy: 65.46%\n",
            "[[[b'motorcycle', b'train'], [b'rocket', b'streetcar']]] Accuracy: 51.29%\n",
            "[[[b'motorcycle', b'train'], [b'rocket', b'tank']]] Accuracy: 57.50%\n",
            "[[[b'motorcycle', b'train'], [b'rocket', b'tractor']]] Accuracy: 53.96%\n",
            "[[[b'motorcycle', b'train'], [b'streetcar', b'tank']]] Accuracy: 54.29%\n",
            "[[[b'motorcycle', b'train'], [b'streetcar', b'tractor']]] Accuracy: 52.92%\n",
            "[[[b'motorcycle', b'train'], [b'tank', b'tractor']]] Accuracy: 56.58%\n"
          ],
          "name": "stdout"
        },
        {
          "output_type": "stream",
          "text": [
            "Exception ignored in: <bound method BaseSession._Callable.__del__ of <tensorflow.python.client.session.BaseSession._Callable object at 0x7f3cc961d908>>\n",
            "Traceback (most recent call last):\n",
            "  File \"/usr/local/lib/python3.6/dist-packages/tensorflow/python/client/session.py\", line 1455, in __del__\n",
            "    self._session._session, self._handle, status)\n",
            "  File \"/usr/local/lib/python3.6/dist-packages/tensorflow/python/framework/errors_impl.py\", line 528, in __exit__\n",
            "    c_api.TF_GetCode(self.status.status))\n",
            "tensorflow.python.framework.errors_impl.CancelledError: Session has been closed.\n"
          ],
          "name": "stderr"
        },
        {
          "output_type": "stream",
          "text": [
            "[[[b'pickup_truck', b'train'], [b'lawn_mower', b'rocket']]] Accuracy: 50.00%\n",
            "[[[b'pickup_truck', b'train'], [b'lawn_mower', b'streetcar']]] Accuracy: 52.92%\n",
            "[[[b'pickup_truck', b'train'], [b'lawn_mower', b'tank']]] Accuracy: 57.04%\n",
            "[[[b'pickup_truck', b'train'], [b'lawn_mower', b'tractor']]] Accuracy: 55.71%\n",
            "[[[b'pickup_truck', b'train'], [b'rocket', b'streetcar']]] Accuracy: 47.92%\n",
            "[[[b'pickup_truck', b'train'], [b'rocket', b'tank']]] Accuracy: 54.46%\n",
            "[[[b'pickup_truck', b'train'], [b'rocket', b'tractor']]] Accuracy: 50.54%\n",
            "[[[b'pickup_truck', b'train'], [b'streetcar', b'tank']]] Accuracy: 52.12%\n",
            "[[[b'pickup_truck', b'train'], [b'streetcar', b'tractor']]] Accuracy: 50.96%\n",
            "[[[b'pickup_truck', b'train'], [b'tank', b'tractor']]] Accuracy: 52.08%\n"
          ],
          "name": "stdout"
        }
      ]
    },
    {
      "cell_type": "markdown",
      "metadata": {
        "id": "wEXtX-dAGSYd",
        "colab_type": "text"
      },
      "source": [
        "## To identify the filename of the combination that got the highest accuracy.\n",
        "\n",
        "#### Last saved file for a particular combination is the highest accuracy it got during its iteration."
      ]
    },
    {
      "cell_type": "code",
      "metadata": {
        "id": "YrNbE25x34I_",
        "colab_type": "code",
        "outputId": "383ba0fd-1099-4618-c5f2-a088a794aa7a",
        "colab": {
          "base_uri": "https://localhost:8080/",
          "height": 9890
        }
      },
      "source": [
        "## This list will be specific to this session only.\n",
        "save_dir = os.path.join(os.getcwd(), 'saved_models')\n",
        "!ls saved_models"
      ],
      "execution_count": 0,
      "outputs": [
        {
          "output_type": "stream",
          "text": [
            "'c_[[[bbicycle, bbus], [blawn_mower, brocket]]]_m.001.h5'\n",
            "'c_[[[bbicycle, bbus], [blawn_mower, brocket]]]_m.003.h5'\n",
            "'c_[[[bbicycle, bbus], [blawn_mower, brocket]]]_m.004.h5'\n",
            "'c_[[[bbicycle, bbus], [blawn_mower, brocket]]]_m.008.h5'\n",
            "'c_[[[bbicycle, bbus], [blawn_mower, brocket]]]_m.009.h5'\n",
            "'c_[[[bbicycle, bbus], [blawn_mower, bstreetcar]]]_m.001.h5'\n",
            "'c_[[[bbicycle, bbus], [blawn_mower, bstreetcar]]]_m.003.h5'\n",
            "'c_[[[bbicycle, bbus], [blawn_mower, bstreetcar]]]_m.009.h5'\n",
            "'c_[[[bbicycle, bbus], [blawn_mower, bstreetcar]]]_m.011.h5'\n",
            "'c_[[[bbicycle, bbus], [blawn_mower, bstreetcar]]]_m.022.h5'\n",
            "'c_[[[bbicycle, bbus], [blawn_mower, bstreetcar]]]_m.023.h5'\n",
            "'c_[[[bbicycle, bbus], [blawn_mower, bstreetcar]]]_m.024.h5'\n",
            "'c_[[[bbicycle, bbus], [blawn_mower, btank]]]_m.001.h5'\n",
            "'c_[[[bbicycle, bbus], [blawn_mower, btank]]]_m.007.h5'\n",
            "'c_[[[bbicycle, bbus], [blawn_mower, btank]]]_m.008.h5'\n",
            "'c_[[[bbicycle, bbus], [blawn_mower, btank]]]_m.021.h5'\n",
            "'c_[[[bbicycle, bbus], [blawn_mower, btank]]]_m.025.h5'\n",
            "'c_[[[bbicycle, bbus], [blawn_mower, btractor]]]_m.001.h5'\n",
            "'c_[[[bbicycle, bbus], [blawn_mower, btractor]]]_m.010.h5'\n",
            "'c_[[[bbicycle, bbus], [blawn_mower, btractor]]]_m.013.h5'\n",
            "'c_[[[bbicycle, bbus], [blawn_mower, btractor]]]_m.019.h5'\n",
            "'c_[[[bbicycle, bbus], [blawn_mower, btractor]]]_m.021.h5'\n",
            "'c_[[[bbicycle, bbus], [brocket, bstreetcar]]]_m.001.h5'\n",
            "'c_[[[bbicycle, bbus], [brocket, bstreetcar]]]_m.009.h5'\n",
            "'c_[[[bbicycle, bbus], [brocket, bstreetcar]]]_m.011.h5'\n",
            "'c_[[[bbicycle, bbus], [brocket, bstreetcar]]]_m.013.h5'\n",
            "'c_[[[bbicycle, bbus], [brocket, bstreetcar]]]_m.022.h5'\n",
            "'c_[[[bbicycle, bbus], [brocket, bstreetcar]]]_m.024.h5'\n",
            "'c_[[[bbicycle, bbus], [brocket, bstreetcar]]]_m.026.h5'\n",
            "'c_[[[bbicycle, bbus], [brocket, btank]]]_m.001.h5'\n",
            "'c_[[[bbicycle, bbus], [brocket, btank]]]_m.005.h5'\n",
            "'c_[[[bbicycle, bbus], [brocket, btank]]]_m.006.h5'\n",
            "'c_[[[bbicycle, bbus], [brocket, btank]]]_m.007.h5'\n",
            "'c_[[[bbicycle, bbus], [brocket, btank]]]_m.009.h5'\n",
            "'c_[[[bbicycle, bbus], [brocket, btank]]]_m.014.h5'\n",
            "'c_[[[bbicycle, bbus], [brocket, btank]]]_m.015.h5'\n",
            "'c_[[[bbicycle, bbus], [brocket, btractor]]]_m.001.h5'\n",
            "'c_[[[bbicycle, bbus], [brocket, btractor]]]_m.004.h5'\n",
            "'c_[[[bbicycle, bbus], [brocket, btractor]]]_m.006.h5'\n",
            "'c_[[[bbicycle, bbus], [brocket, btractor]]]_m.007.h5'\n",
            "'c_[[[bbicycle, bbus], [brocket, btractor]]]_m.010.h5'\n",
            "'c_[[[bbicycle, bbus], [brocket, btractor]]]_m.014.h5'\n",
            "'c_[[[bbicycle, bbus], [bstreetcar, btank]]]_m.001.h5'\n",
            "'c_[[[bbicycle, bbus], [bstreetcar, btank]]]_m.002.h5'\n",
            "'c_[[[bbicycle, bbus], [bstreetcar, btractor]]]_m.001.h5'\n",
            "'c_[[[bbicycle, bbus], [bstreetcar, btractor]]]_m.030.h5'\n",
            "'c_[[[bbicycle, bbus], [btank, btractor]]]_m.001.h5'\n",
            "'c_[[[bbicycle, bbus], [btank, btractor]]]_m.002.h5'\n",
            "'c_[[[bbicycle, bbus], [btank, btractor]]]_m.017.h5'\n",
            "'c_[[[bbicycle, bbus], [btank, btractor]]]_m.018.h5'\n",
            "'c_[[[bbicycle, bbus], [btank, btractor]]]_m.020.h5'\n",
            "'c_[[[bbicycle, bbus], [btank, btractor]]]_m.022.h5'\n",
            "'c_[[[bbicycle, bmotorcycle], [blawn_mower, brocket]]]_m.001.h5'\n",
            "'c_[[[bbicycle, bmotorcycle], [blawn_mower, brocket]]]_m.002.h5'\n",
            "'c_[[[bbicycle, bmotorcycle], [blawn_mower, brocket]]]_m.009.h5'\n",
            "'c_[[[bbicycle, bmotorcycle], [blawn_mower, brocket]]]_m.011.h5'\n",
            "'c_[[[bbicycle, bmotorcycle], [blawn_mower, brocket]]]_m.012.h5'\n",
            "'c_[[[bbicycle, bmotorcycle], [blawn_mower, bstreetcar]]]_m.001.h5'\n",
            "'c_[[[bbicycle, bmotorcycle], [blawn_mower, bstreetcar]]]_m.002.h5'\n",
            "'c_[[[bbicycle, bmotorcycle], [blawn_mower, bstreetcar]]]_m.003.h5'\n",
            "'c_[[[bbicycle, bmotorcycle], [blawn_mower, bstreetcar]]]_m.004.h5'\n",
            "'c_[[[bbicycle, bmotorcycle], [blawn_mower, bstreetcar]]]_m.005.h5'\n",
            "'c_[[[bbicycle, bmotorcycle], [blawn_mower, bstreetcar]]]_m.006.h5'\n",
            "'c_[[[bbicycle, bmotorcycle], [blawn_mower, btank]]]_m.001.h5'\n",
            "'c_[[[bbicycle, bmotorcycle], [blawn_mower, btank]]]_m.002.h5'\n",
            "'c_[[[bbicycle, bmotorcycle], [blawn_mower, btank]]]_m.007.h5'\n",
            "'c_[[[bbicycle, bmotorcycle], [blawn_mower, btank]]]_m.008.h5'\n",
            "'c_[[[bbicycle, bmotorcycle], [blawn_mower, btractor]]]_m.001.h5'\n",
            "'c_[[[bbicycle, bmotorcycle], [blawn_mower, btractor]]]_m.002.h5'\n",
            "'c_[[[bbicycle, bmotorcycle], [blawn_mower, btractor]]]_m.006.h5'\n",
            "'c_[[[bbicycle, bmotorcycle], [blawn_mower, btractor]]]_m.007.h5'\n",
            "'c_[[[bbicycle, bmotorcycle], [blawn_mower, btractor]]]_m.008.h5'\n",
            "'c_[[[bbicycle, bmotorcycle], [blawn_mower, btractor]]]_m.009.h5'\n",
            "'c_[[[bbicycle, bmotorcycle], [blawn_mower, btractor]]]_m.011.h5'\n",
            "'c_[[[bbicycle, bmotorcycle], [blawn_mower, btractor]]]_m.013.h5'\n",
            "'c_[[[bbicycle, bmotorcycle], [blawn_mower, btractor]]]_m.016.h5'\n",
            "'c_[[[bbicycle, bmotorcycle], [blawn_mower, btractor]]]_m.019.h5'\n",
            "'c_[[[bbicycle, bmotorcycle], [blawn_mower, btractor]]]_m.024.h5'\n",
            "'c_[[[bbicycle, bmotorcycle], [blawn_mower, btractor]]]_m.027.h5'\n",
            "'c_[[[bbicycle, bmotorcycle], [blawn_mower, btractor]]]_m.028.h5'\n",
            "'c_[[[bbicycle, bmotorcycle], [brocket, bstreetcar]]]_m.001.h5'\n",
            "'c_[[[bbicycle, bmotorcycle], [brocket, bstreetcar]]]_m.002.h5'\n",
            "'c_[[[bbicycle, bmotorcycle], [brocket, bstreetcar]]]_m.008.h5'\n",
            "'c_[[[bbicycle, bmotorcycle], [brocket, bstreetcar]]]_m.010.h5'\n",
            "'c_[[[bbicycle, bmotorcycle], [brocket, btank]]]_m.001.h5'\n",
            "'c_[[[bbicycle, bmotorcycle], [brocket, btank]]]_m.002.h5'\n",
            "'c_[[[bbicycle, bmotorcycle], [brocket, btank]]]_m.004.h5'\n",
            "'c_[[[bbicycle, bmotorcycle], [brocket, btank]]]_m.008.h5'\n",
            "'c_[[[bbicycle, bmotorcycle], [brocket, btank]]]_m.009.h5'\n",
            "'c_[[[bbicycle, bmotorcycle], [brocket, btank]]]_m.010.h5'\n",
            "'c_[[[bbicycle, bmotorcycle], [brocket, btank]]]_m.012.h5'\n",
            "'c_[[[bbicycle, bmotorcycle], [brocket, btractor]]]_m.001.h5'\n",
            "'c_[[[bbicycle, bmotorcycle], [brocket, btractor]]]_m.007.h5'\n",
            "'c_[[[bbicycle, bmotorcycle], [brocket, btractor]]]_m.008.h5'\n",
            "'c_[[[bbicycle, bmotorcycle], [brocket, btractor]]]_m.009.h5'\n",
            "'c_[[[bbicycle, bmotorcycle], [bstreetcar, btank]]]_m.001.h5'\n",
            "'c_[[[bbicycle, bmotorcycle], [bstreetcar, btank]]]_m.007.h5'\n",
            "'c_[[[bbicycle, bmotorcycle], [bstreetcar, btractor]]]_m.001.h5'\n",
            "'c_[[[bbicycle, bmotorcycle], [btank, btractor]]]_m.001.h5'\n",
            "'c_[[[bbicycle, bpickup_truck], [blawn_mower, brocket]]]_m.001.h5'\n",
            "'c_[[[bbicycle, bpickup_truck], [blawn_mower, brocket]]]_m.004.h5'\n",
            "'c_[[[bbicycle, bpickup_truck], [blawn_mower, brocket]]]_m.005.h5'\n",
            "'c_[[[bbicycle, bpickup_truck], [blawn_mower, brocket]]]_m.006.h5'\n",
            "'c_[[[bbicycle, bpickup_truck], [blawn_mower, brocket]]]_m.007.h5'\n",
            "'c_[[[bbicycle, bpickup_truck], [blawn_mower, brocket]]]_m.009.h5'\n",
            "'c_[[[bbicycle, bpickup_truck], [blawn_mower, brocket]]]_m.010.h5'\n",
            "'c_[[[bbicycle, bpickup_truck], [blawn_mower, brocket]]]_m.011.h5'\n",
            "'c_[[[bbicycle, bpickup_truck], [blawn_mower, brocket]]]_m.014.h5'\n",
            "'c_[[[bbicycle, bpickup_truck], [blawn_mower, bstreetcar]]]_m.001.h5'\n",
            "'c_[[[bbicycle, bpickup_truck], [blawn_mower, bstreetcar]]]_m.005.h5'\n",
            "'c_[[[bbicycle, bpickup_truck], [blawn_mower, bstreetcar]]]_m.006.h5'\n",
            "'c_[[[bbicycle, bpickup_truck], [blawn_mower, bstreetcar]]]_m.007.h5'\n",
            "'c_[[[bbicycle, bpickup_truck], [blawn_mower, bstreetcar]]]_m.010.h5'\n",
            "'c_[[[bbicycle, bpickup_truck], [blawn_mower, bstreetcar]]]_m.013.h5'\n",
            "'c_[[[bbicycle, bpickup_truck], [blawn_mower, bstreetcar]]]_m.015.h5'\n",
            "'c_[[[bbicycle, bpickup_truck], [blawn_mower, bstreetcar]]]_m.017.h5'\n",
            "'c_[[[bbicycle, bpickup_truck], [blawn_mower, btank]]]_m.001.h5'\n",
            "'c_[[[bbicycle, bpickup_truck], [blawn_mower, btank]]]_m.006.h5'\n",
            "'c_[[[bbicycle, bpickup_truck], [blawn_mower, btank]]]_m.007.h5'\n",
            "'c_[[[bbicycle, bpickup_truck], [blawn_mower, btank]]]_m.008.h5'\n",
            "'c_[[[bbicycle, bpickup_truck], [blawn_mower, btank]]]_m.025.h5'\n",
            "'c_[[[bbicycle, bpickup_truck], [blawn_mower, btank]]]_m.028.h5'\n",
            "'c_[[[bbicycle, bpickup_truck], [blawn_mower, btractor]]]_m.001.h5'\n",
            "'c_[[[bbicycle, bpickup_truck], [blawn_mower, btractor]]]_m.004.h5'\n",
            "'c_[[[bbicycle, bpickup_truck], [blawn_mower, btractor]]]_m.005.h5'\n",
            "'c_[[[bbicycle, bpickup_truck], [blawn_mower, btractor]]]_m.007.h5'\n",
            "'c_[[[bbicycle, bpickup_truck], [blawn_mower, btractor]]]_m.008.h5'\n",
            "'c_[[[bbicycle, bpickup_truck], [blawn_mower, btractor]]]_m.009.h5'\n",
            "'c_[[[bbicycle, bpickup_truck], [blawn_mower, btractor]]]_m.010.h5'\n",
            "'c_[[[bbicycle, bpickup_truck], [blawn_mower, btractor]]]_m.016.h5'\n",
            "'c_[[[bbicycle, bpickup_truck], [blawn_mower, btractor]]]_m.017.h5'\n",
            "'c_[[[bbicycle, bpickup_truck], [blawn_mower, btractor]]]_m.018.h5'\n",
            "'c_[[[bbicycle, bpickup_truck], [blawn_mower, btractor]]]_m.019.h5'\n",
            "'c_[[[bbicycle, bpickup_truck], [blawn_mower, btractor]]]_m.023.h5'\n",
            "'c_[[[bbicycle, bpickup_truck], [blawn_mower, btractor]]]_m.028.h5'\n",
            "'c_[[[bbicycle, bpickup_truck], [brocket, bstreetcar]]]_m.001.h5'\n",
            "'c_[[[bbicycle, bpickup_truck], [brocket, bstreetcar]]]_m.002.h5'\n",
            "'c_[[[bbicycle, bpickup_truck], [brocket, bstreetcar]]]_m.006.h5'\n",
            "'c_[[[bbicycle, bpickup_truck], [brocket, bstreetcar]]]_m.008.h5'\n",
            "'c_[[[bbicycle, bpickup_truck], [brocket, bstreetcar]]]_m.009.h5'\n",
            "'c_[[[bbicycle, bpickup_truck], [brocket, bstreetcar]]]_m.012.h5'\n",
            "'c_[[[bbicycle, bpickup_truck], [brocket, bstreetcar]]]_m.013.h5'\n",
            "'c_[[[bbicycle, bpickup_truck], [brocket, bstreetcar]]]_m.020.h5'\n",
            "'c_[[[bbicycle, bpickup_truck], [brocket, bstreetcar]]]_m.021.h5'\n",
            "'c_[[[bbicycle, bpickup_truck], [brocket, bstreetcar]]]_m.022.h5'\n",
            "'c_[[[bbicycle, bpickup_truck], [brocket, bstreetcar]]]_m.024.h5'\n",
            "'c_[[[bbicycle, bpickup_truck], [brocket, btank]]]_m.001.h5'\n",
            "'c_[[[bbicycle, bpickup_truck], [brocket, btank]]]_m.005.h5'\n",
            "'c_[[[bbicycle, bpickup_truck], [brocket, btank]]]_m.006.h5'\n",
            "'c_[[[bbicycle, bpickup_truck], [brocket, btank]]]_m.007.h5'\n",
            "'c_[[[bbicycle, bpickup_truck], [brocket, btank]]]_m.008.h5'\n",
            "'c_[[[bbicycle, bpickup_truck], [brocket, btank]]]_m.009.h5'\n",
            "'c_[[[bbicycle, bpickup_truck], [brocket, btank]]]_m.011.h5'\n",
            "'c_[[[bbicycle, bpickup_truck], [brocket, btank]]]_m.014.h5'\n",
            "'c_[[[bbicycle, bpickup_truck], [brocket, btractor]]]_m.001.h5'\n",
            "'c_[[[bbicycle, bpickup_truck], [brocket, btractor]]]_m.002.h5'\n",
            "'c_[[[bbicycle, bpickup_truck], [brocket, btractor]]]_m.006.h5'\n",
            "'c_[[[bbicycle, bpickup_truck], [brocket, btractor]]]_m.007.h5'\n",
            "'c_[[[bbicycle, bpickup_truck], [brocket, btractor]]]_m.008.h5'\n",
            "'c_[[[bbicycle, bpickup_truck], [brocket, btractor]]]_m.009.h5'\n",
            "'c_[[[bbicycle, bpickup_truck], [brocket, btractor]]]_m.010.h5'\n",
            "'c_[[[bbicycle, bpickup_truck], [brocket, btractor]]]_m.011.h5'\n",
            "'c_[[[bbicycle, bpickup_truck], [brocket, btractor]]]_m.013.h5'\n",
            "'c_[[[bbicycle, bpickup_truck], [brocket, btractor]]]_m.023.h5'\n",
            "'c_[[[bbicycle, bpickup_truck], [bstreetcar, btank]]]_m.001.h5'\n",
            "'c_[[[bbicycle, bpickup_truck], [bstreetcar, btank]]]_m.002.h5'\n",
            "'c_[[[bbicycle, bpickup_truck], [bstreetcar, btank]]]_m.030.h5'\n",
            "'c_[[[bbicycle, bpickup_truck], [bstreetcar, btractor]]]_m.001.h5'\n",
            "'c_[[[bbicycle, bpickup_truck], [bstreetcar, btractor]]]_m.027.h5'\n",
            "'c_[[[bbicycle, bpickup_truck], [btank, btractor]]]_m.001.h5'\n",
            "'c_[[[bbicycle, btrain], [blawn_mower, brocket]]]_m.001.h5'\n",
            "'c_[[[bbicycle, btrain], [blawn_mower, brocket]]]_m.002.h5'\n",
            "'c_[[[bbicycle, btrain], [blawn_mower, brocket]]]_m.005.h5'\n",
            "'c_[[[bbicycle, btrain], [blawn_mower, brocket]]]_m.006.h5'\n",
            "'c_[[[bbicycle, btrain], [blawn_mower, brocket]]]_m.007.h5'\n",
            "'c_[[[bbicycle, btrain], [blawn_mower, brocket]]]_m.008.h5'\n",
            "'c_[[[bbicycle, btrain], [blawn_mower, bstreetcar]]]_m.001.h5'\n",
            "'c_[[[bbicycle, btrain], [blawn_mower, btank]]]_m.001.h5'\n",
            "'c_[[[bbicycle, btrain], [blawn_mower, btank]]]_m.006.h5'\n",
            "'c_[[[bbicycle, btrain], [blawn_mower, btank]]]_m.007.h5'\n",
            "'c_[[[bbicycle, btrain], [blawn_mower, btractor]]]_m.001.h5'\n",
            "'c_[[[bbicycle, btrain], [blawn_mower, btractor]]]_m.002.h5'\n",
            "'c_[[[bbicycle, btrain], [blawn_mower, btractor]]]_m.008.h5'\n",
            "'c_[[[bbicycle, btrain], [blawn_mower, btractor]]]_m.010.h5'\n",
            "'c_[[[bbicycle, btrain], [blawn_mower, btractor]]]_m.018.h5'\n",
            "'c_[[[bbicycle, btrain], [brocket, bstreetcar]]]_m.001.h5'\n",
            "'c_[[[bbicycle, btrain], [brocket, btank]]]_m.001.h5'\n",
            "'c_[[[bbicycle, btrain], [brocket, btank]]]_m.007.h5'\n",
            "'c_[[[bbicycle, btrain], [brocket, btank]]]_m.009.h5'\n",
            "'c_[[[bbicycle, btrain], [brocket, btank]]]_m.010.h5'\n",
            "'c_[[[bbicycle, btrain], [brocket, btank]]]_m.017.h5'\n",
            "'c_[[[bbicycle, btrain], [brocket, btank]]]_m.019.h5'\n",
            "'c_[[[bbicycle, btrain], [brocket, btank]]]_m.021.h5'\n",
            "'c_[[[bbicycle, btrain], [brocket, btank]]]_m.026.h5'\n",
            "'c_[[[bbicycle, btrain], [brocket, btank]]]_m.028.h5'\n",
            "'c_[[[bbicycle, btrain], [brocket, btractor]]]_m.001.h5'\n",
            "'c_[[[bbicycle, btrain], [brocket, btractor]]]_m.007.h5'\n",
            "'c_[[[bbicycle, btrain], [brocket, btractor]]]_m.008.h5'\n",
            "'c_[[[bbicycle, btrain], [brocket, btractor]]]_m.010.h5'\n",
            "'c_[[[bbicycle, btrain], [brocket, btractor]]]_m.013.h5'\n",
            "'c_[[[bbicycle, btrain], [brocket, btractor]]]_m.014.h5'\n",
            "'c_[[[bbicycle, btrain], [brocket, btractor]]]_m.018.h5'\n",
            "'c_[[[bbicycle, btrain], [brocket, btractor]]]_m.025.h5'\n",
            "'c_[[[bbicycle, btrain], [brocket, btractor]]]_m.028.h5'\n",
            "'c_[[[bbicycle, btrain], [bstreetcar, btank]]]_m.001.h5'\n",
            "'c_[[[bbicycle, btrain], [bstreetcar, btank]]]_m.002.h5'\n",
            "'c_[[[bbicycle, btrain], [bstreetcar, btractor]]]_m.001.h5'\n",
            "'c_[[[bbicycle, btrain], [btank, btractor]]]_m.001.h5'\n",
            "'c_[[[bbicycle, btrain], [btank, btractor]]]_m.002.h5'\n",
            "'c_[[[bbus, bmotorcycle], [blawn_mower, brocket]]]_m.001.h5'\n",
            "'c_[[[bbus, bmotorcycle], [blawn_mower, brocket]]]_m.002.h5'\n",
            "'c_[[[bbus, bmotorcycle], [blawn_mower, brocket]]]_m.011.h5'\n",
            "'c_[[[bbus, bmotorcycle], [blawn_mower, brocket]]]_m.018.h5'\n",
            "'c_[[[bbus, bmotorcycle], [blawn_mower, brocket]]]_m.020.h5'\n",
            "'c_[[[bbus, bmotorcycle], [blawn_mower, brocket]]]_m.024.h5'\n",
            "'c_[[[bbus, bmotorcycle], [blawn_mower, bstreetcar]]]_m.001.h5'\n",
            "'c_[[[bbus, bmotorcycle], [blawn_mower, bstreetcar]]]_m.002.h5'\n",
            "'c_[[[bbus, bmotorcycle], [blawn_mower, bstreetcar]]]_m.003.h5'\n",
            "'c_[[[bbus, bmotorcycle], [blawn_mower, bstreetcar]]]_m.008.h5'\n",
            "'c_[[[bbus, bmotorcycle], [blawn_mower, bstreetcar]]]_m.009.h5'\n",
            "'c_[[[bbus, bmotorcycle], [blawn_mower, bstreetcar]]]_m.011.h5'\n",
            "'c_[[[bbus, bmotorcycle], [blawn_mower, bstreetcar]]]_m.013.h5'\n",
            "'c_[[[bbus, bmotorcycle], [blawn_mower, btank]]]_m.001.h5'\n",
            "'c_[[[bbus, bmotorcycle], [blawn_mower, btank]]]_m.010.h5'\n",
            "'c_[[[bbus, bmotorcycle], [blawn_mower, btank]]]_m.011.h5'\n",
            "'c_[[[bbus, bmotorcycle], [blawn_mower, btank]]]_m.012.h5'\n",
            "'c_[[[bbus, bmotorcycle], [blawn_mower, btank]]]_m.015.h5'\n",
            "'c_[[[bbus, bmotorcycle], [blawn_mower, btank]]]_m.018.h5'\n",
            "'c_[[[bbus, bmotorcycle], [blawn_mower, btractor]]]_m.001.h5'\n",
            "'c_[[[bbus, bmotorcycle], [blawn_mower, btractor]]]_m.002.h5'\n",
            "'c_[[[bbus, bmotorcycle], [blawn_mower, btractor]]]_m.003.h5'\n",
            "'c_[[[bbus, bmotorcycle], [blawn_mower, btractor]]]_m.005.h5'\n",
            "'c_[[[bbus, bmotorcycle], [blawn_mower, btractor]]]_m.008.h5'\n",
            "'c_[[[bbus, bmotorcycle], [blawn_mower, btractor]]]_m.009.h5'\n",
            "'c_[[[bbus, bmotorcycle], [blawn_mower, btractor]]]_m.010.h5'\n",
            "'c_[[[bbus, bmotorcycle], [blawn_mower, btractor]]]_m.011.h5'\n",
            "'c_[[[bbus, bmotorcycle], [blawn_mower, btractor]]]_m.012.h5'\n",
            "'c_[[[bbus, bmotorcycle], [blawn_mower, btractor]]]_m.015.h5'\n",
            "'c_[[[bbus, bmotorcycle], [blawn_mower, btractor]]]_m.017.h5'\n",
            "'c_[[[bbus, bmotorcycle], [brocket, bstreetcar]]]_m.001.h5'\n",
            "'c_[[[bbus, bmotorcycle], [brocket, bstreetcar]]]_m.009.h5'\n",
            "'c_[[[bbus, bmotorcycle], [brocket, bstreetcar]]]_m.010.h5'\n",
            "'c_[[[bbus, bmotorcycle], [brocket, bstreetcar]]]_m.011.h5'\n",
            "'c_[[[bbus, bmotorcycle], [brocket, btank]]]_m.001.h5'\n",
            "'c_[[[bbus, bmotorcycle], [brocket, btank]]]_m.011.h5'\n",
            "'c_[[[bbus, bmotorcycle], [brocket, btank]]]_m.012.h5'\n",
            "'c_[[[bbus, bmotorcycle], [brocket, btank]]]_m.015.h5'\n",
            "'c_[[[bbus, bmotorcycle], [brocket, btractor]]]_m.001.h5'\n",
            "'c_[[[bbus, bmotorcycle], [brocket, btractor]]]_m.005.h5'\n",
            "'c_[[[bbus, bmotorcycle], [brocket, btractor]]]_m.007.h5'\n",
            "'c_[[[bbus, bmotorcycle], [brocket, btractor]]]_m.010.h5'\n",
            "'c_[[[bbus, bmotorcycle], [brocket, btractor]]]_m.011.h5'\n",
            "'c_[[[bbus, bmotorcycle], [brocket, btractor]]]_m.012.h5'\n",
            "'c_[[[bbus, bmotorcycle], [brocket, btractor]]]_m.014.h5'\n",
            "'c_[[[bbus, bmotorcycle], [brocket, btractor]]]_m.015.h5'\n",
            "'c_[[[bbus, bmotorcycle], [bstreetcar, btank]]]_m.001.h5'\n",
            "'c_[[[bbus, bmotorcycle], [bstreetcar, btank]]]_m.002.h5'\n",
            "'c_[[[bbus, bmotorcycle], [bstreetcar, btank]]]_m.007.h5'\n",
            "'c_[[[bbus, bmotorcycle], [bstreetcar, btank]]]_m.008.h5'\n",
            "'c_[[[bbus, bmotorcycle], [bstreetcar, btractor]]]_m.001.h5'\n",
            "'c_[[[bbus, bmotorcycle], [bstreetcar, btractor]]]_m.002.h5'\n",
            "'c_[[[bbus, bmotorcycle], [bstreetcar, btractor]]]_m.006.h5'\n",
            "'c_[[[bbus, bmotorcycle], [bstreetcar, btractor]]]_m.007.h5'\n",
            "'c_[[[bbus, bmotorcycle], [bstreetcar, btractor]]]_m.009.h5'\n",
            "'c_[[[bbus, bmotorcycle], [bstreetcar, btractor]]]_m.010.h5'\n",
            "'c_[[[bbus, bmotorcycle], [bstreetcar, btractor]]]_m.019.h5'\n",
            "'c_[[[bbus, bmotorcycle], [bstreetcar, btractor]]]_m.021.h5'\n",
            "'c_[[[bbus, bmotorcycle], [bstreetcar, btractor]]]_m.023.h5'\n",
            "'c_[[[bbus, bmotorcycle], [bstreetcar, btractor]]]_m.024.h5'\n",
            "'c_[[[bbus, bmotorcycle], [bstreetcar, btractor]]]_m.025.h5'\n",
            "'c_[[[bbus, bmotorcycle], [btank, btractor]]]_m.001.h5'\n",
            "'c_[[[bbus, bmotorcycle], [btank, btractor]]]_m.009.h5'\n",
            "'c_[[[bbus, bmotorcycle], [btank, btractor]]]_m.010.h5'\n",
            "'c_[[[bbus, bmotorcycle], [btank, btractor]]]_m.013.h5'\n",
            "'c_[[[bbus, bmotorcycle], [btank, btractor]]]_m.014.h5'\n",
            "'c_[[[bbus, bmotorcycle], [btank, btractor]]]_m.025.h5'\n",
            "'c_[[[bbus, bpickup_truck], [blawn_mower, brocket]]]_m.001.h5'\n",
            "'c_[[[bbus, bpickup_truck], [blawn_mower, brocket]]]_m.002.h5'\n",
            "'c_[[[bbus, bpickup_truck], [blawn_mower, bstreetcar]]]_m.001.h5'\n",
            "'c_[[[bbus, bpickup_truck], [blawn_mower, bstreetcar]]]_m.002.h5'\n",
            "'c_[[[bbus, bpickup_truck], [blawn_mower, bstreetcar]]]_m.004.h5'\n",
            "'c_[[[bbus, bpickup_truck], [blawn_mower, bstreetcar]]]_m.008.h5'\n",
            "'c_[[[bbus, bpickup_truck], [blawn_mower, bstreetcar]]]_m.009.h5'\n",
            "'c_[[[bbus, bpickup_truck], [blawn_mower, bstreetcar]]]_m.012.h5'\n",
            "'c_[[[bbus, bpickup_truck], [blawn_mower, btank]]]_m.001.h5'\n",
            "'c_[[[bbus, bpickup_truck], [blawn_mower, btank]]]_m.010.h5'\n",
            "'c_[[[bbus, bpickup_truck], [blawn_mower, btank]]]_m.011.h5'\n",
            "'c_[[[bbus, bpickup_truck], [blawn_mower, btank]]]_m.019.h5'\n",
            "'c_[[[bbus, bpickup_truck], [blawn_mower, btank]]]_m.020.h5'\n",
            "'c_[[[bbus, bpickup_truck], [blawn_mower, btank]]]_m.023.h5'\n",
            "'c_[[[bbus, bpickup_truck], [blawn_mower, btractor]]]_m.001.h5'\n",
            "'c_[[[bbus, bpickup_truck], [blawn_mower, btractor]]]_m.002.h5'\n",
            "'c_[[[bbus, bpickup_truck], [blawn_mower, btractor]]]_m.003.h5'\n",
            "'c_[[[bbus, bpickup_truck], [blawn_mower, btractor]]]_m.007.h5'\n",
            "'c_[[[bbus, bpickup_truck], [blawn_mower, btractor]]]_m.010.h5'\n",
            "'c_[[[bbus, bpickup_truck], [blawn_mower, btractor]]]_m.011.h5'\n",
            "'c_[[[bbus, bpickup_truck], [blawn_mower, btractor]]]_m.012.h5'\n",
            "'c_[[[bbus, bpickup_truck], [blawn_mower, btractor]]]_m.013.h5'\n",
            "'c_[[[bbus, bpickup_truck], [brocket, bstreetcar]]]_m.001.h5'\n",
            "'c_[[[bbus, bpickup_truck], [brocket, bstreetcar]]]_m.014.h5'\n",
            "'c_[[[bbus, bpickup_truck], [brocket, btank]]]_m.001.h5'\n",
            "'c_[[[bbus, bpickup_truck], [brocket, btank]]]_m.002.h5'\n",
            "'c_[[[bbus, bpickup_truck], [brocket, btank]]]_m.011.h5'\n",
            "'c_[[[bbus, bpickup_truck], [brocket, btractor]]]_m.001.h5'\n",
            "'c_[[[bbus, bpickup_truck], [brocket, btractor]]]_m.004.h5'\n",
            "'c_[[[bbus, bpickup_truck], [bstreetcar, btank]]]_m.001.h5'\n",
            "'c_[[[bbus, bpickup_truck], [bstreetcar, btank]]]_m.002.h5'\n",
            "'c_[[[bbus, bpickup_truck], [bstreetcar, btank]]]_m.010.h5'\n",
            "'c_[[[bbus, bpickup_truck], [bstreetcar, btank]]]_m.024.h5'\n",
            "'c_[[[bbus, bpickup_truck], [bstreetcar, btractor]]]_m.001.h5'\n",
            "'c_[[[bbus, bpickup_truck], [bstreetcar, btractor]]]_m.003.h5'\n",
            "'c_[[[bbus, bpickup_truck], [bstreetcar, btractor]]]_m.012.h5'\n",
            "'c_[[[bbus, bpickup_truck], [btank, btractor]]]_m.001.h5'\n",
            "'c_[[[bbus, bpickup_truck], [btank, btractor]]]_m.002.h5'\n",
            "'c_[[[bbus, btrain], [blawn_mower, brocket]]]_m.001.h5'\n",
            "'c_[[[bbus, btrain], [blawn_mower, bstreetcar]]]_m.001.h5'\n",
            "'c_[[[bbus, btrain], [blawn_mower, bstreetcar]]]_m.003.h5'\n",
            "'c_[[[bbus, btrain], [blawn_mower, bstreetcar]]]_m.006.h5'\n",
            "'c_[[[bbus, btrain], [blawn_mower, bstreetcar]]]_m.008.h5'\n",
            "'c_[[[bbus, btrain], [blawn_mower, bstreetcar]]]_m.009.h5'\n",
            "'c_[[[bbus, btrain], [blawn_mower, btank]]]_m.001.h5'\n",
            "'c_[[[bbus, btrain], [blawn_mower, btank]]]_m.002.h5'\n",
            "'c_[[[bbus, btrain], [blawn_mower, btank]]]_m.004.h5'\n",
            "'c_[[[bbus, btrain], [blawn_mower, btank]]]_m.007.h5'\n",
            "'c_[[[bbus, btrain], [blawn_mower, btractor]]]_m.001.h5'\n",
            "'c_[[[bbus, btrain], [blawn_mower, btractor]]]_m.002.h5'\n",
            "'c_[[[bbus, btrain], [blawn_mower, btractor]]]_m.008.h5'\n",
            "'c_[[[bbus, btrain], [blawn_mower, btractor]]]_m.009.h5'\n",
            "'c_[[[bbus, btrain], [blawn_mower, btractor]]]_m.011.h5'\n",
            "'c_[[[bbus, btrain], [blawn_mower, btractor]]]_m.013.h5'\n",
            "'c_[[[bbus, btrain], [brocket, bstreetcar]]]_m.001.h5'\n",
            "'c_[[[bbus, btrain], [brocket, bstreetcar]]]_m.003.h5'\n",
            "'c_[[[bbus, btrain], [brocket, bstreetcar]]]_m.007.h5'\n",
            "'c_[[[bbus, btrain], [brocket, bstreetcar]]]_m.008.h5'\n",
            "'c_[[[bbus, btrain], [brocket, bstreetcar]]]_m.012.h5'\n",
            "'c_[[[bbus, btrain], [brocket, bstreetcar]]]_m.016.h5'\n",
            "'c_[[[bbus, btrain], [brocket, bstreetcar]]]_m.025.h5'\n",
            "'c_[[[bbus, btrain], [brocket, bstreetcar]]]_m.030.h5'\n",
            "'c_[[[bbus, btrain], [brocket, btank]]]_m.001.h5'\n",
            "'c_[[[bbus, btrain], [brocket, btank]]]_m.002.h5'\n",
            "'c_[[[bbus, btrain], [brocket, btank]]]_m.004.h5'\n",
            "'c_[[[bbus, btrain], [brocket, btank]]]_m.006.h5'\n",
            "'c_[[[bbus, btrain], [brocket, btank]]]_m.007.h5'\n",
            "'c_[[[bbus, btrain], [brocket, btank]]]_m.008.h5'\n",
            "'c_[[[bbus, btrain], [brocket, btractor]]]_m.001.h5'\n",
            "'c_[[[bbus, btrain], [brocket, btractor]]]_m.008.h5'\n",
            "'c_[[[bbus, btrain], [brocket, btractor]]]_m.009.h5'\n",
            "'c_[[[bbus, btrain], [brocket, btractor]]]_m.010.h5'\n",
            "'c_[[[bbus, btrain], [brocket, btractor]]]_m.016.h5'\n",
            "'c_[[[bbus, btrain], [bstreetcar, btank]]]_m.001.h5'\n",
            "'c_[[[bbus, btrain], [bstreetcar, btank]]]_m.002.h5'\n",
            "'c_[[[bbus, btrain], [bstreetcar, btank]]]_m.003.h5'\n",
            "'c_[[[bbus, btrain], [bstreetcar, btank]]]_m.004.h5'\n",
            "'c_[[[bbus, btrain], [bstreetcar, btank]]]_m.006.h5'\n",
            "'c_[[[bbus, btrain], [bstreetcar, btractor]]]_m.001.h5'\n",
            "'c_[[[bbus, btrain], [bstreetcar, btractor]]]_m.002.h5'\n",
            "'c_[[[bbus, btrain], [bstreetcar, btractor]]]_m.012.h5'\n",
            "'c_[[[bbus, btrain], [bstreetcar, btractor]]]_m.017.h5'\n",
            "'c_[[[bbus, btrain], [btank, btractor]]]_m.001.h5'\n",
            "'c_[[[bbus, btrain], [btank, btractor]]]_m.002.h5'\n",
            "'c_[[[bbus, btrain], [btank, btractor]]]_m.015.h5'\n",
            "'c_[[[bbus, btrain], [btank, btractor]]]_m.016.h5'\n",
            "'c_[[[bbus, btrain], [btank, btractor]]]_m.017.h5'\n",
            "'c_[[[bbus, btrain], [btank, btractor]]]_m.020.h5'\n",
            "'c_[[[bbus, btrain], [btank, btractor]]]_m.028.h5'\n",
            "'c_[[[bmotorcycle, bpickup_truck], [blawn_mower, brocket]]]_m.001.h5'\n",
            "'c_[[[bmotorcycle, bpickup_truck], [blawn_mower, brocket]]]_m.002.h5'\n",
            "'c_[[[bmotorcycle, bpickup_truck], [blawn_mower, brocket]]]_m.019.h5'\n",
            "'c_[[[bmotorcycle, bpickup_truck], [blawn_mower, brocket]]]_m.026.h5'\n",
            "'c_[[[bmotorcycle, bpickup_truck], [blawn_mower, brocket]]]_m.027.h5'\n",
            "'c_[[[bmotorcycle, bpickup_truck], [blawn_mower, bstreetcar]]]_m.001.h5'\n",
            "'c_[[[bmotorcycle, bpickup_truck], [blawn_mower, bstreetcar]]]_m.003.h5'\n",
            "'c_[[[bmotorcycle, bpickup_truck], [blawn_mower, bstreetcar]]]_m.004.h5'\n",
            "'c_[[[bmotorcycle, bpickup_truck], [blawn_mower, bstreetcar]]]_m.006.h5'\n",
            "'c_[[[bmotorcycle, bpickup_truck], [blawn_mower, bstreetcar]]]_m.011.h5'\n",
            "'c_[[[bmotorcycle, bpickup_truck], [blawn_mower, bstreetcar]]]_m.012.h5'\n",
            "'c_[[[bmotorcycle, bpickup_truck], [blawn_mower, bstreetcar]]]_m.016.h5'\n",
            "'c_[[[bmotorcycle, bpickup_truck], [blawn_mower, bstreetcar]]]_m.020.h5'\n",
            "'c_[[[bmotorcycle, bpickup_truck], [blawn_mower, bstreetcar]]]_m.024.h5'\n",
            "'c_[[[bmotorcycle, bpickup_truck], [blawn_mower, btank]]]_m.001.h5'\n",
            "'c_[[[bmotorcycle, bpickup_truck], [blawn_mower, btank]]]_m.010.h5'\n",
            "'c_[[[bmotorcycle, bpickup_truck], [blawn_mower, btank]]]_m.011.h5'\n",
            "'c_[[[bmotorcycle, bpickup_truck], [blawn_mower, btank]]]_m.014.h5'\n",
            "'c_[[[bmotorcycle, bpickup_truck], [blawn_mower, btank]]]_m.015.h5'\n",
            "'c_[[[bmotorcycle, bpickup_truck], [blawn_mower, btank]]]_m.016.h5'\n",
            "'c_[[[bmotorcycle, bpickup_truck], [blawn_mower, btank]]]_m.019.h5'\n",
            "'c_[[[bmotorcycle, bpickup_truck], [blawn_mower, btank]]]_m.020.h5'\n",
            "'c_[[[bmotorcycle, bpickup_truck], [blawn_mower, btank]]]_m.024.h5'\n",
            "'c_[[[bmotorcycle, bpickup_truck], [blawn_mower, btank]]]_m.025.h5'\n",
            "'c_[[[bmotorcycle, bpickup_truck], [blawn_mower, btank]]]_m.030.h5'\n",
            "'c_[[[bmotorcycle, bpickup_truck], [blawn_mower, btractor]]]_m.001.h5'\n",
            "'c_[[[bmotorcycle, bpickup_truck], [blawn_mower, btractor]]]_m.003.h5'\n",
            "'c_[[[bmotorcycle, bpickup_truck], [blawn_mower, btractor]]]_m.004.h5'\n",
            "'c_[[[bmotorcycle, bpickup_truck], [blawn_mower, btractor]]]_m.006.h5'\n",
            "'c_[[[bmotorcycle, bpickup_truck], [blawn_mower, btractor]]]_m.008.h5'\n",
            "'c_[[[bmotorcycle, bpickup_truck], [blawn_mower, btractor]]]_m.010.h5'\n",
            "'c_[[[bmotorcycle, bpickup_truck], [blawn_mower, btractor]]]_m.011.h5'\n",
            "'c_[[[bmotorcycle, bpickup_truck], [blawn_mower, btractor]]]_m.012.h5'\n",
            "'c_[[[bmotorcycle, bpickup_truck], [blawn_mower, btractor]]]_m.014.h5'\n",
            "'c_[[[bmotorcycle, bpickup_truck], [blawn_mower, btractor]]]_m.021.h5'\n",
            "'c_[[[bmotorcycle, bpickup_truck], [blawn_mower, btractor]]]_m.022.h5'\n",
            "'c_[[[bmotorcycle, bpickup_truck], [blawn_mower, btractor]]]_m.023.h5'\n",
            "'c_[[[bmotorcycle, bpickup_truck], [blawn_mower, btractor]]]_m.030.h5'\n",
            "'c_[[[bmotorcycle, bpickup_truck], [brocket, bstreetcar]]]_m.001.h5'\n",
            "'c_[[[bmotorcycle, bpickup_truck], [brocket, bstreetcar]]]_m.003.h5'\n",
            "'c_[[[bmotorcycle, bpickup_truck], [brocket, bstreetcar]]]_m.010.h5'\n",
            "'c_[[[bmotorcycle, bpickup_truck], [brocket, bstreetcar]]]_m.011.h5'\n",
            "'c_[[[bmotorcycle, bpickup_truck], [brocket, bstreetcar]]]_m.017.h5'\n",
            "'c_[[[bmotorcycle, bpickup_truck], [brocket, bstreetcar]]]_m.025.h5'\n",
            "'c_[[[bmotorcycle, bpickup_truck], [brocket, btank]]]_m.001.h5'\n",
            "'c_[[[bmotorcycle, bpickup_truck], [brocket, btank]]]_m.009.h5'\n",
            "'c_[[[bmotorcycle, bpickup_truck], [brocket, btractor]]]_m.001.h5'\n",
            "'c_[[[bmotorcycle, bpickup_truck], [brocket, btractor]]]_m.002.h5'\n",
            "'c_[[[bmotorcycle, bpickup_truck], [brocket, btractor]]]_m.003.h5'\n",
            "'c_[[[bmotorcycle, bpickup_truck], [brocket, btractor]]]_m.006.h5'\n",
            "'c_[[[bmotorcycle, bpickup_truck], [brocket, btractor]]]_m.010.h5'\n",
            "'c_[[[bmotorcycle, bpickup_truck], [brocket, btractor]]]_m.011.h5'\n",
            "'c_[[[bmotorcycle, bpickup_truck], [brocket, btractor]]]_m.012.h5'\n",
            "'c_[[[bmotorcycle, bpickup_truck], [brocket, btractor]]]_m.014.h5'\n",
            "'c_[[[bmotorcycle, bpickup_truck], [brocket, btractor]]]_m.016.h5'\n",
            "'c_[[[bmotorcycle, bpickup_truck], [brocket, btractor]]]_m.017.h5'\n",
            "'c_[[[bmotorcycle, bpickup_truck], [brocket, btractor]]]_m.026.h5'\n",
            "'c_[[[bmotorcycle, bpickup_truck], [bstreetcar, btank]]]_m.001.h5'\n",
            "'c_[[[bmotorcycle, bpickup_truck], [bstreetcar, btank]]]_m.008.h5'\n",
            "'c_[[[bmotorcycle, bpickup_truck], [bstreetcar, btank]]]_m.009.h5'\n",
            "'c_[[[bmotorcycle, bpickup_truck], [bstreetcar, btank]]]_m.010.h5'\n",
            "'c_[[[bmotorcycle, bpickup_truck], [bstreetcar, btractor]]]_m.001.h5'\n",
            "'c_[[[bmotorcycle, bpickup_truck], [bstreetcar, btractor]]]_m.002.h5'\n",
            "'c_[[[bmotorcycle, bpickup_truck], [bstreetcar, btractor]]]_m.004.h5'\n",
            "'c_[[[bmotorcycle, bpickup_truck], [bstreetcar, btractor]]]_m.008.h5'\n",
            "'c_[[[bmotorcycle, bpickup_truck], [bstreetcar, btractor]]]_m.013.h5'\n",
            "'c_[[[bmotorcycle, bpickup_truck], [bstreetcar, btractor]]]_m.015.h5'\n",
            "'c_[[[bmotorcycle, bpickup_truck], [bstreetcar, btractor]]]_m.016.h5'\n",
            "'c_[[[bmotorcycle, bpickup_truck], [bstreetcar, btractor]]]_m.018.h5'\n",
            "'c_[[[bmotorcycle, bpickup_truck], [bstreetcar, btractor]]]_m.029.h5'\n",
            "'c_[[[bmotorcycle, bpickup_truck], [bstreetcar, btractor]]]_m.030.h5'\n",
            "'c_[[[bmotorcycle, bpickup_truck], [btank, btractor]]]_m.001.h5'\n",
            "'c_[[[bmotorcycle, bpickup_truck], [btank, btractor]]]_m.007.h5'\n",
            "'c_[[[bmotorcycle, bpickup_truck], [btank, btractor]]]_m.008.h5'\n",
            "'c_[[[bmotorcycle, bpickup_truck], [btank, btractor]]]_m.011.h5'\n",
            "'c_[[[bmotorcycle, bpickup_truck], [btank, btractor]]]_m.012.h5'\n",
            "'c_[[[bmotorcycle, btrain], [blawn_mower, brocket]]]_m.001.h5'\n",
            "'c_[[[bmotorcycle, btrain], [blawn_mower, bstreetcar]]]_m.001.h5'\n",
            "'c_[[[bmotorcycle, btrain], [blawn_mower, bstreetcar]]]_m.002.h5'\n",
            "'c_[[[bmotorcycle, btrain], [blawn_mower, bstreetcar]]]_m.006.h5'\n",
            "'c_[[[bmotorcycle, btrain], [blawn_mower, bstreetcar]]]_m.007.h5'\n",
            "'c_[[[bmotorcycle, btrain], [blawn_mower, bstreetcar]]]_m.008.h5'\n",
            "'c_[[[bmotorcycle, btrain], [blawn_mower, bstreetcar]]]_m.009.h5'\n",
            "'c_[[[bmotorcycle, btrain], [blawn_mower, bstreetcar]]]_m.014.h5'\n",
            "'c_[[[bmotorcycle, btrain], [blawn_mower, btank]]]_m.001.h5'\n",
            "'c_[[[bmotorcycle, btrain], [blawn_mower, btank]]]_m.002.h5'\n",
            "'c_[[[bmotorcycle, btrain], [blawn_mower, btank]]]_m.004.h5'\n",
            "'c_[[[bmotorcycle, btrain], [blawn_mower, btank]]]_m.010.h5'\n",
            "'c_[[[bmotorcycle, btrain], [blawn_mower, btank]]]_m.011.h5'\n",
            "'c_[[[bmotorcycle, btrain], [blawn_mower, btank]]]_m.022.h5'\n",
            "'c_[[[bmotorcycle, btrain], [blawn_mower, btractor]]]_m.001.h5'\n",
            "'c_[[[bmotorcycle, btrain], [blawn_mower, btractor]]]_m.002.h5'\n",
            "'c_[[[bmotorcycle, btrain], [blawn_mower, btractor]]]_m.008.h5'\n",
            "'c_[[[bmotorcycle, btrain], [blawn_mower, btractor]]]_m.009.h5'\n",
            "'c_[[[bmotorcycle, btrain], [blawn_mower, btractor]]]_m.011.h5'\n",
            "'c_[[[bmotorcycle, btrain], [blawn_mower, btractor]]]_m.013.h5'\n",
            "'c_[[[bmotorcycle, btrain], [blawn_mower, btractor]]]_m.015.h5'\n",
            "'c_[[[bmotorcycle, btrain], [brocket, bstreetcar]]]_m.001.h5'\n",
            "'c_[[[bmotorcycle, btrain], [brocket, bstreetcar]]]_m.010.h5'\n",
            "'c_[[[bmotorcycle, btrain], [brocket, bstreetcar]]]_m.024.h5'\n",
            "'c_[[[bmotorcycle, btrain], [brocket, bstreetcar]]]_m.028.h5'\n",
            "'c_[[[bmotorcycle, btrain], [brocket, btank]]]_m.001.h5'\n",
            "'c_[[[bmotorcycle, btrain], [brocket, btank]]]_m.002.h5'\n",
            "'c_[[[bmotorcycle, btrain], [brocket, btank]]]_m.009.h5'\n",
            "'c_[[[bmotorcycle, btrain], [brocket, btank]]]_m.010.h5'\n",
            "'c_[[[bmotorcycle, btrain], [brocket, btank]]]_m.011.h5'\n",
            "'c_[[[bmotorcycle, btrain], [brocket, btank]]]_m.014.h5'\n",
            "'c_[[[bmotorcycle, btrain], [brocket, btank]]]_m.016.h5'\n",
            "'c_[[[bmotorcycle, btrain], [brocket, btank]]]_m.020.h5'\n",
            "'c_[[[bmotorcycle, btrain], [brocket, btractor]]]_m.001.h5'\n",
            "'c_[[[bmotorcycle, btrain], [brocket, btractor]]]_m.003.h5'\n",
            "'c_[[[bmotorcycle, btrain], [brocket, btractor]]]_m.004.h5'\n",
            "'c_[[[bmotorcycle, btrain], [brocket, btractor]]]_m.005.h5'\n",
            "'c_[[[bmotorcycle, btrain], [brocket, btractor]]]_m.007.h5'\n",
            "'c_[[[bmotorcycle, btrain], [brocket, btractor]]]_m.008.h5'\n",
            "'c_[[[bmotorcycle, btrain], [brocket, btractor]]]_m.009.h5'\n",
            "'c_[[[bmotorcycle, btrain], [brocket, btractor]]]_m.010.h5'\n",
            "'c_[[[bmotorcycle, btrain], [brocket, btractor]]]_m.011.h5'\n",
            "'c_[[[bmotorcycle, btrain], [brocket, btractor]]]_m.012.h5'\n",
            "'c_[[[bmotorcycle, btrain], [brocket, btractor]]]_m.017.h5'\n",
            "'c_[[[bmotorcycle, btrain], [brocket, btractor]]]_m.020.h5'\n",
            "'c_[[[bmotorcycle, btrain], [bstreetcar, btank]]]_m.001.h5'\n",
            "'c_[[[bmotorcycle, btrain], [bstreetcar, btank]]]_m.004.h5'\n",
            "'c_[[[bmotorcycle, btrain], [bstreetcar, btank]]]_m.005.h5'\n",
            "'c_[[[bmotorcycle, btrain], [bstreetcar, btank]]]_m.006.h5'\n",
            "'c_[[[bmotorcycle, btrain], [bstreetcar, btank]]]_m.007.h5'\n",
            "'c_[[[bmotorcycle, btrain], [bstreetcar, btractor]]]_m.001.h5'\n",
            "'c_[[[bmotorcycle, btrain], [bstreetcar, btractor]]]_m.008.h5'\n",
            "'c_[[[bmotorcycle, btrain], [bstreetcar, btractor]]]_m.021.h5'\n",
            "'c_[[[bmotorcycle, btrain], [btank, btractor]]]_m.001.h5'\n",
            "'c_[[[bmotorcycle, btrain], [btank, btractor]]]_m.002.h5'\n",
            "'c_[[[bmotorcycle, btrain], [btank, btractor]]]_m.003.h5'\n",
            "'c_[[[bmotorcycle, btrain], [btank, btractor]]]_m.004.h5'\n",
            "'c_[[[bmotorcycle, btrain], [btank, btractor]]]_m.017.h5'\n",
            "'c_[[[bmotorcycle, btrain], [btank, btractor]]]_m.018.h5'\n",
            "'c_[[[bmotorcycle, btrain], [btank, btractor]]]_m.020.h5'\n",
            "'c_[[[bmotorcycle, btrain], [btank, btractor]]]_m.026.h5'\n",
            "'c_[[[bmotorcycle, btrain], [btank, btractor]]]_m.027.h5'\n",
            "'c_[[[bpickup_truck, btrain], [blawn_mower, brocket]]]_m.001.h5'\n",
            "'c_[[[bpickup_truck, btrain], [blawn_mower, brocket]]]_m.002.h5'\n",
            "'c_[[[bpickup_truck, btrain], [blawn_mower, bstreetcar]]]_m.001.h5'\n",
            "'c_[[[bpickup_truck, btrain], [blawn_mower, bstreetcar]]]_m.003.h5'\n",
            "'c_[[[bpickup_truck, btrain], [blawn_mower, bstreetcar]]]_m.005.h5'\n",
            "'c_[[[bpickup_truck, btrain], [blawn_mower, bstreetcar]]]_m.007.h5'\n",
            "'c_[[[bpickup_truck, btrain], [blawn_mower, bstreetcar]]]_m.008.h5'\n",
            "'c_[[[bpickup_truck, btrain], [blawn_mower, btank]]]_m.001.h5'\n",
            "'c_[[[bpickup_truck, btrain], [blawn_mower, btank]]]_m.004.h5'\n",
            "'c_[[[bpickup_truck, btrain], [blawn_mower, btank]]]_m.007.h5'\n",
            "'c_[[[bpickup_truck, btrain], [blawn_mower, btank]]]_m.012.h5'\n",
            "'c_[[[bpickup_truck, btrain], [blawn_mower, btank]]]_m.017.h5'\n",
            "'c_[[[bpickup_truck, btrain], [blawn_mower, btank]]]_m.019.h5'\n",
            "'c_[[[bpickup_truck, btrain], [blawn_mower, btractor]]]_m.001.h5'\n",
            "'c_[[[bpickup_truck, btrain], [blawn_mower, btractor]]]_m.002.h5'\n",
            "'c_[[[bpickup_truck, btrain], [blawn_mower, btractor]]]_m.003.h5'\n",
            "'c_[[[bpickup_truck, btrain], [blawn_mower, btractor]]]_m.008.h5'\n",
            "'c_[[[bpickup_truck, btrain], [blawn_mower, btractor]]]_m.010.h5'\n",
            "'c_[[[bpickup_truck, btrain], [blawn_mower, btractor]]]_m.012.h5'\n",
            "'c_[[[bpickup_truck, btrain], [blawn_mower, btractor]]]_m.013.h5'\n",
            "'c_[[[bpickup_truck, btrain], [brocket, bstreetcar]]]_m.001.h5'\n",
            "'c_[[[bpickup_truck, btrain], [brocket, btank]]]_m.001.h5'\n",
            "'c_[[[bpickup_truck, btrain], [brocket, btank]]]_m.019.h5'\n",
            "'c_[[[bpickup_truck, btrain], [brocket, btank]]]_m.020.h5'\n",
            "'c_[[[bpickup_truck, btrain], [brocket, btank]]]_m.022.h5'\n",
            "'c_[[[bpickup_truck, btrain], [brocket, btank]]]_m.023.h5'\n",
            "'c_[[[bpickup_truck, btrain], [brocket, btractor]]]_m.001.h5'\n",
            "'c_[[[bpickup_truck, btrain], [brocket, btractor]]]_m.002.h5'\n",
            "'c_[[[bpickup_truck, btrain], [brocket, btractor]]]_m.005.h5'\n",
            "'c_[[[bpickup_truck, btrain], [brocket, btractor]]]_m.009.h5'\n",
            "'c_[[[bpickup_truck, btrain], [brocket, btractor]]]_m.010.h5'\n",
            "'c_[[[bpickup_truck, btrain], [brocket, btractor]]]_m.011.h5'\n",
            "'c_[[[bpickup_truck, btrain], [bstreetcar, btank]]]_m.001.h5'\n",
            "'c_[[[bpickup_truck, btrain], [bstreetcar, btank]]]_m.002.h5'\n",
            "'c_[[[bpickup_truck, btrain], [bstreetcar, btank]]]_m.005.h5'\n",
            "'c_[[[bpickup_truck, btrain], [bstreetcar, btractor]]]_m.001.h5'\n",
            "'c_[[[bpickup_truck, btrain], [bstreetcar, btractor]]]_m.004.h5'\n",
            "'c_[[[bpickup_truck, btrain], [btank, btractor]]]_m.001.h5'\n",
            "'c_[[[bpickup_truck, btrain], [btank, btractor]]]_m.003.h5'\n",
            "'c_[[[bpickup_truck, btrain], [btank, btractor]]]_m.004.h5'\n"
          ],
          "name": "stdout"
        }
      ]
    },
    {
      "cell_type": "code",
      "metadata": {
        "id": "9_F-3utqbg0I",
        "colab_type": "code",
        "colab": {}
      },
      "source": [
        "# #Let's train the model\n",
        "# epochs = 30\n",
        "# #batch_size=128\n",
        "# hist = model3.fit_generator(datagen.flow(X_train, y_train,\n",
        "#     batch_size=128),shuffle= True,\n",
        "#     steps_per_epoch=X_train.shape[0] // 256,\n",
        "#     epochs=epochs,\n",
        "#     validation_data=(X_test, y_test),\n",
        "#     workers=4,callbacks=callbacks)"
      ],
      "execution_count": 0,
      "outputs": []
    },
    {
      "cell_type": "code",
      "metadata": {
        "id": "jDMnuFqRZ2uD",
        "colab_type": "code",
        "colab": {}
      },
      "source": [
        "scores = model3.evaluate(X_test, y_test, verbose=0)\n",
        "print(\"Accuracy: %.2f%%\" % (scores[1]*100))"
      ],
      "execution_count": 0,
      "outputs": []
    },
    {
      "cell_type": "code",
      "metadata": {
        "id": "GRvKj2taZ4cd",
        "colab_type": "code",
        "colab": {}
      },
      "source": [
        "def plot_model_history(model_history):\n",
        "    fig, axs = plt.subplots(1,2,figsize=(15,5))\n",
        "    # summarize history for accuracy\n",
        "    axs[0].plot(range(1,len(model_history.history['acc'])+1),model_history.history['acc'])\n",
        "    axs[0].plot(range(1,len(model_history.history['val_acc'])+1),model_history.history['val_acc'])\n",
        "    axs[0].set_title('Model Accuracy')\n",
        "    axs[0].set_ylabel('Accuracy')\n",
        "    axs[0].set_xlabel('Epoch')\n",
        "    axs[0].set_xticks(np.arange(1,len(model_history.history['acc'])+1),len(model_history.history['acc'])/10)\n",
        "    axs[0].legend(['train', 'test'], loc='best')\n",
        "    # summarize history for loss\n",
        "    axs[1].plot(range(1,len(model_history.history['loss'])+1),model_history.history['loss'])\n",
        "    axs[1].plot(range(1,len(model_history.history['val_loss'])+1),model_history.history['val_loss'])\n",
        "    axs[1].set_title('Model Loss')\n",
        "    axs[1].set_ylabel('Loss')\n",
        "    axs[1].set_xlabel('Epoch')\n",
        "    axs[1].set_xticks(np.arange(1,len(model_history.history['loss'])+1),len(model_history.history['loss'])/10)\n",
        "    axs[1].legend(['train', 'test'], loc='best')\n",
        "    plt.show()\n",
        "    \n",
        "plot_model_history(hist)"
      ],
      "execution_count": 0,
      "outputs": []
    },
    {
      "cell_type": "code",
      "metadata": {
        "id": "vBQ2UKHe5XDp",
        "colab_type": "code",
        "outputId": "f4cb093b-a485-40e6-b632-47ba6d885464",
        "colab": {
          "base_uri": "https://localhost:8080/",
          "height": 35
        }
      },
      "source": [
        "y_test.shape"
      ],
      "execution_count": 0,
      "outputs": [
        {
          "output_type": "execute_result",
          "data": {
            "text/plain": [
              "(2400, 2)"
            ]
          },
          "metadata": {
            "tags": []
          },
          "execution_count": 47
        }
      ]
    },
    {
      "cell_type": "markdown",
      "metadata": {
        "id": "z7Ul0hxuF_Rz",
        "colab_type": "text"
      },
      "source": [
        "## Noted the combination for which the accuracy was highest and loading that model back.\n",
        "\n",
        "#### Change X_test,y_test as per the required combination here."
      ]
    },
    {
      "cell_type": "code",
      "metadata": {
        "id": "zDNKvt6x5AoM",
        "colab_type": "code",
        "outputId": "5767ad4b-e716-4e4a-fbff-6fd2512ff29e",
        "colab": {
          "base_uri": "https://localhost:8080/",
          "height": 35
        }
      },
      "source": [
        "### Look through the above outputs and make changes in this part of code cell.\n",
        "\n",
        "bestmodel = load_model('/content/saved_models/c_[[[bmotorcycle, bpickup_truck], [blawn_mower, bstreetcar]]]_m.024.h5')\n",
        "scores = bestmodel.evaluate(X_test, y_test, verbose=0)\n",
        "print(\"Accuracy: %.2f%%\" % (scores[1]*100))\n"
      ],
      "execution_count": 0,
      "outputs": [
        {
          "output_type": "stream",
          "text": [
            "Accuracy: 68.38%\n"
          ],
          "name": "stdout"
        }
      ]
    },
    {
      "cell_type": "code",
      "metadata": {
        "id": "Rvd8VanfZ8Tb",
        "colab_type": "code",
        "outputId": "59693347-dcd5-40d1-aab1-9cd9b8ec50bb",
        "colab": {
          "base_uri": "https://localhost:8080/",
          "height": 325
        }
      },
      "source": [
        "## Confusion matrix of the loaded model\n",
        "from sklearn.metrics import classification_report, confusion_matrix\n",
        "Y_pred = bestmodel.predict(X_test, verbose=2)\n",
        "y_pred = np.argmax(Y_pred, axis=1)\n",
        "\n",
        "cm = confusion_matrix(np.argmax(y_test,axis=1),y_pred)\n",
        "plt.clf()\n",
        "plt.imshow(cm, interpolation='nearest', cmap=plt.cm.Wistia)\n",
        "classNames = ['Negative','Positive']\n",
        "plt.title('Confusion Matrix - Test Data')\n",
        "plt.ylabel('True label')\n",
        "plt.xlabel('Predicted label')\n",
        "tick_marks = np.arange(len(classNames))\n",
        "plt.xticks(tick_marks, classNames, rotation=45)\n",
        "plt.yticks(tick_marks, classNames)\n",
        "s = [['TN','FP'], ['FN', 'TP']]\n",
        "for i in range(2):\n",
        "  for j in range(2):\n",
        "    plt.text(j,i, str(s[i][j])+\" = \"+str(cm[i][j]))\n",
        "plt.show()"
      ],
      "execution_count": 0,
      "outputs": [
        {
          "output_type": "display_data",
          "data": {
            "image/png": "[encoded data removed]",
            "text/plain": [
              "<Figure size 432x288 with 1 Axes>"
            ]
          },
          "metadata": {
            "tags": []
          }
        }
      ]
    },
    {
      "cell_type": "code",
      "metadata": {
        "id": "cVC8P4DuaCNq",
        "colab_type": "code",
        "outputId": "9f9a5250-2836-4249-b63c-ce580234bf76",
        "colab": {
          "base_uri": "https://localhost:8080/",
          "height": 181
        }
      },
      "source": [
        "## Classification report of the loaded model\n",
        "from sklearn.metrics import classification_report\n",
        "cp = classification_report(np.argmax(y_test,axis=1),y_pred)\n",
        "print(cp)"
      ],
      "execution_count": 0,
      "outputs": [
        {
          "output_type": "stream",
          "text": [
            "              precision    recall  f1-score   support\n",
            "\n",
            "           0       0.65      0.79      0.71      1200\n",
            "           1       0.73      0.58      0.65      1200\n",
            "\n",
            "   micro avg       0.68      0.68      0.68      2400\n",
            "   macro avg       0.69      0.68      0.68      2400\n",
            "weighted avg       0.69      0.68      0.68      2400\n",
            "\n"
          ],
          "name": "stdout"
        }
      ]
    },
    {
      "cell_type": "code",
      "metadata": {
        "id": "7fwwKfNUaKvT",
        "colab_type": "code",
        "colab": {}
      },
      "source": [
        "#print out randomly selected images(black/red labl-->correct/wrong prediction )\n",
        "def cifar_grid_c(X,Y,inds,n_col, predictions=None):\n",
        "  if predictions is not None:\n",
        "    if Y.shape != predictions.shape:\n",
        "      print(\"Predictions must equal Y in length!\")\n",
        "      return(None)\n",
        "  N = len(inds)\n",
        "  n_row = int(ceil(1.0*N/n_col))\n",
        "  fig, axes = plt.subplots(n_row,n_col,figsize=(10,10))\n",
        "  \n",
        "#  clabels = labels[\"label_names\"]\n",
        "  clabels = ['vehicles 1','vehicles 2']\n",
        "  print(type(clabels))\n",
        "  for j in range(n_row):\n",
        "    for k in range(n_col):\n",
        "      i_inds = (j*n_col)+k\n",
        "      i_data = inds[i_inds]\n",
        "      \n",
        "     # axes[j][k].set_axis_off()\n",
        "      if i_inds < N:\n",
        "        rgb = X[[i_data,...]]\n",
        "        #print(rgb.shape)\n",
        "        img = rgb.reshape(3,32,32).transpose([1, 2, 0])\n",
        "        axes[j][k].imshow(img, interpolation='nearest')\n",
        "        label = clabels[np.argmax(Y[i_data,...])]\n",
        "        axes[j][k].set_title(label)\n",
        "        if predictions is not None:\n",
        "          pred = clabels[np.argmax(predictions[i_data,...])]\n",
        "          if label != pred:\n",
        "            label += \" n\"\n",
        "            axes[j][k].set_title(pred, color='red')            \n",
        "  \n",
        "  fig.set_tight_layout(True)"
      ],
      "execution_count": 0,
      "outputs": []
    },
    {
      "cell_type": "code",
      "metadata": {
        "id": "bcnyIA6FxDGx",
        "colab_type": "code",
        "outputId": "001de474-1d46-491e-ed61-311045418ede",
        "colab": {
          "base_uri": "https://localhost:8080/",
          "height": 747
        }
      },
      "source": [
        "num_predictions = 36\n",
        "predict_gen = bestmodel.predict_generator(datagen.flow(X_test, y_test,\n",
        "    batch_size=256, shuffle=False),\n",
        "    steps=(X_test.shape[0] // 256)+1, workers=4)\n",
        "\n",
        "indices = [np.random.choice(range(len(X_test))) \n",
        "           for i in range(num_predictions)]\n",
        "\n",
        "cifar_grid_c(X_test,y_test,indices,6, predictions=predict_gen)"
      ],
      "execution_count": 0,
      "outputs": [
        {
          "output_type": "stream",
          "text": [
            "<class 'list'>\n"
          ],
          "name": "stdout"
        },
        {
          "output_type": "display_data",
          "data": {
            "image/png": "[encoded data removed]",
            "text/plain": [
              "<Figure size 720x720 with 36 Axes>"
            ]
          },
          "metadata": {
            "tags": []
          }
        }
      ]
    },
    {
      "cell_type": "code",
      "metadata": {
        "id": "LUYzVu8VyH_Y",
        "colab_type": "code",
        "outputId": "afdd1229-3d26-4bad-c0d4-4fbf63505f6c",
        "colab": {
          "base_uri": "https://localhost:8080/",
          "height": 525
        }
      },
      "source": [
        "## ROC curve of the loaded model\n",
        "from sklearn.metrics import roc_curve, auc\n",
        "fpr, tpr, _ = roc_curve(np.argmax(y_test,axis=1),y_pred)\n",
        "roc_auc = auc(fpr, tpr)\n",
        "\n",
        "plt.figure(figsize=[8,8])\n",
        "plt.plot(fpr, tpr, label='ROC curve (area = %0.2f)' % roc_auc, linewidth=4)\n",
        "plt.plot([0, 1], [0, 1], 'k--', linewidth=4)\n",
        "plt.xlim([-0.05, 1.0])\n",
        "plt.ylim([-0.05, 1.05])\n",
        "plt.xlabel('False Positive Rate', fontsize=18)\n",
        "plt.ylabel('True Positive Rate', fontsize=18)\n",
        "plt.title('Receiver operating characteristic curve', fontsize=18)\n",
        "plt.legend(loc=\"lower right\")\n",
        "plt.show()"
      ],
      "execution_count": 0,
      "outputs": [
        {
          "output_type": "display_data",
          "data": {
            "image/png": "[encoded data removed]",
            "text/plain": [
              "<Figure size 576x576 with 1 Axes>"
            ]
          },
          "metadata": {
            "tags": []
          }
        }
      ]
    },
    {
      "cell_type": "code",
      "metadata": {
        "id": "N6ZZ7q45-X_R",
        "colab_type": "code",
        "colab": {}
      },
      "source": [
        ""
      ],
      "execution_count": 0,
      "outputs": []
    }
  ]
}